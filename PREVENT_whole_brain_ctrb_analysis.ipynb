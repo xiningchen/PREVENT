{
 "cells": [
  {
   "cell_type": "markdown",
   "source": [
    "# Whole-brain Controllability, Aging, and TIA effects\n",
    "This notebook contains the code for a re-analysis of controllability and aging, and the effects of TIA have on brain aging.\n",
    "- Also contains analysis for hub nodes"
   ],
   "metadata": {
    "collapsed": false
   }
  },
  {
   "cell_type": "code",
   "execution_count": null,
   "outputs": [],
   "source": [
    "import math\n",
    "\n",
    "import networkx as nx\n",
    "import pandas as pd\n",
    "import numpy as np\n",
    "import importlib\n",
    "import sys\n",
    "import os\n",
    "\n",
    "import matplotlib.pyplot as plt\n",
    "import seaborn as sns\n",
    "print(sys.version)\n",
    "\n",
    "import Towlson_group_code.data_io as myFunc\n",
    "importlib.reload(myFunc)\n",
    "\n",
    "import PREVENT_functions as prev_fct\n",
    "importlib.reload(prev_fct)\n",
    "\n",
    "PICKLE_PATH = '../../PREVENT_Study/pickles/'\n",
    "FIGURE_PATH = '../../PREVENT_Study/figures/'\n",
    "DUMP_PATH = '../../PREVENT_Study/dump/'\n",
    "TIMES = ['BL', 'Y1', 'Y3', 'Y5']\n",
    "metadata, node_list = prev_fct.load_meta_data()\n",
    "print(len(node_list))\n",
    "individual_data = myFunc.load_from_pickle(PICKLE_PATH, 'Normalized_Connectomes.pkl')\n",
    "\n",
    "color_map = {\"BL\": '#1f77b4', \"Y1\": '#ff7f0e', \"Y3\": '#2ca02c', \"Y5\": '#d62728'}"
   ],
   "metadata": {
    "collapsed": false,
    "pycharm": {
     "name": "#%%\n"
    }
   }
  },
  {
   "cell_type": "code",
   "execution_count": null,
   "outputs": [],
   "source": [
    "from scipy.stats import mannwhitneyu\n",
    "\n",
    "def get_ctrb_df(rois, use_rank = False):\n",
    "    age_years_map = {'BL': 0, 'Y1': 1, 'Y3': 3, 'Y5': 5}\n",
    "    ids = []\n",
    "    time = []\n",
    "    age = []\n",
    "    diagnosis = []\n",
    "    avg_ctrb = []\n",
    "    mod_ctrb = []\n",
    "    for k in individual_data.keys():\n",
    "        if len(k) == 4:\n",
    "            ptype = k[:2]\n",
    "            t = k[2:].upper()\n",
    "        else:\n",
    "            ptype = k[0]\n",
    "            t = k[1:].upper()\n",
    "        for pid, G in individual_data[k].items():\n",
    "            diagnosis.append(ptype)\n",
    "            ids.append(pid)\n",
    "            time.append(t)\n",
    "            age.append(metadata.loc[pid]['Age'] + age_years_map[t])\n",
    "            if use_rank:\n",
    "                _, G, _ = prev_fct.rank_nodes(G, 'avgCtrb')\n",
    "                _, G, _ = prev_fct.rank_nodes(G, 'modCtrb')\n",
    "                avg_ctrb.append(prev_fct.get_avg_node_metric(G, rois, 'avgCtrbRank'))\n",
    "                mod_ctrb.append(prev_fct.get_avg_node_metric(G, rois, 'modCtrbRank'))\n",
    "            else:\n",
    "                avg_ctrb.append(prev_fct.get_avg_node_metric(G, rois, 'avgCtrb'))\n",
    "                mod_ctrb.append(prev_fct.get_avg_node_metric(G, rois, 'modCtrb'))\n",
    "    return pd.DataFrame(data = {'ID': ids, 'Time': time, 'C/T': diagnosis, 'Age': age, 'avgCtrb': avg_ctrb, 'modCtrb': mod_ctrb})\n",
    "\n",
    "def print_nan_columns(df):\n",
    "    idx = df.index[df.isnull().any(1)]\n",
    "    nans = df.iloc[idx]\n",
    "    print(len(idx))\n",
    "    print(nans)\n",
    "    print(\"Number of data points before dropping NaN:\", len(df.index))\n",
    "    print(\"Number of data points AFTER dropping NaN:\", len(df.dropna().index))"
   ],
   "metadata": {
    "collapsed": false,
    "pycharm": {
     "name": "#%%\n"
    }
   }
  },
  {
   "cell_type": "markdown",
   "source": [
    "# Cross-sectional analysis\n",
    "Whole-brain controllability changes. Whole brain controllability is defined as the average of all nodal controllability in the network.\n",
    "- To prevent the problem of having non-independent datapoints, we will separate out baseline, 1-year, 3-year, and 5-year data based on color.\n",
    "- Since this is not looking at rate of change, all available data points are used.\n",
    "- $x$ = time (BL, Y1, Y3, Y5), $y$ = whole-brain controllability, color by group (Control vs TIA)"
   ],
   "metadata": {
    "collapsed": false
   }
  },
  {
   "cell_type": "code",
   "execution_count": null,
   "outputs": [],
   "source": [
    "whole_brain_ctrb_df = get_ctrb_df(node_list, use_rank=False)\n",
    "whole_brain_ctrb_df = whole_brain_ctrb_df.rename(columns={\"avgCtrb\": \"Whole-brain Avg. Ctrb.\", \"modCtrb\": \"Whole-brain Modal Ctrb.\"})\n",
    "whole_brain_ctrb_df.head(5)"
   ],
   "metadata": {
    "collapsed": false,
    "pycharm": {
     "name": "#%%\n"
    }
   }
  },
  {
   "cell_type": "markdown",
   "source": [
    "#### Whole-brain Average Ctrb.\n",
    "Apply mann whiteney test to see if there's significant differences between control vs TIA group at each time point."
   ],
   "metadata": {
    "collapsed": false
   }
  },
  {
   "cell_type": "code",
   "execution_count": null,
   "outputs": [],
   "source": [
    "for time_group in TIMES:\n",
    "    subset_df = whole_brain_ctrb_df[whole_brain_ctrb_df[\"Time\"] == time_group]\n",
    "    control_subset = subset_df[subset_df[\"C/T\"] == \"HC\"]\n",
    "    tia_subset = subset_df[subset_df[\"C/T\"] == \"P\"]\n",
    "\n",
    "    _, p = mannwhitneyu(control_subset[\"Whole-brain Avg. Ctrb.\"], tia_subset[\"Whole-brain Avg. Ctrb.\"], method='asymptotic', alternative=\"two-sided\")\n",
    "    print(time_group, p)"
   ],
   "metadata": {
    "collapsed": false,
    "pycharm": {
     "name": "#%%\n"
    }
   }
  },
  {
   "cell_type": "code",
   "execution_count": null,
   "outputs": [],
   "source": [
    "plot_df = whole_brain_ctrb_df\n",
    "plot_df[\"C/T\"].replace(\"HC\", \"Control\", inplace=True)\n",
    "plot_df[\"C/T\"].replace(\"P\", \"TIA\", inplace=True)\n",
    "avg_ctrb_plot = sns.boxplot(data=plot_df, x=\"Time\", y=\"Whole-brain Avg. Ctrb.\", hue=\"C/T\", showfliers=False)\n",
    "sns.move_legend(avg_ctrb_plot, \"upper left\", bbox_to_anchor=(1, 1))\n",
    "plt.savefig(FIGURE_PATH+\"/new analysis/Whole-brain Average Controllability.png\", dpi=250, bbox_inches='tight')"
   ],
   "metadata": {
    "collapsed": false,
    "pycharm": {
     "name": "#%%\n"
    }
   }
  },
  {
   "cell_type": "markdown",
   "source": [
    "BL"
   ],
   "metadata": {
    "collapsed": false
   }
  },
  {
   "cell_type": "code",
   "execution_count": null,
   "outputs": [],
   "source": [
    "wb_ctrb_hc_df = whole_brain_ctrb_df[whole_brain_ctrb_df[\"C/T\"] == \"HC\"]\n",
    "wb_ctrb_tia_df = whole_brain_ctrb_df[whole_brain_ctrb_df[\"C/T\"] == \"P\"]\n",
    "sns.regplot(data=wb_ctrb_hc_df[wb_ctrb_hc_df['Time'] == \"BL\"], x=\"Age\", y=\"Whole-brain Avg. Ctrb.\", color=\"blue\")\n",
    "sns.regplot(data=wb_ctrb_tia_df[wb_ctrb_tia_df['Time'] == \"BL\"], x=\"Age\", y=\"Whole-brain Avg. Ctrb.\", color=\"red\")"
   ],
   "metadata": {
    "collapsed": false,
    "pycharm": {
     "name": "#%%\n"
    }
   }
  },
  {
   "cell_type": "markdown",
   "source": [
    "Y1"
   ],
   "metadata": {
    "collapsed": false
   }
  },
  {
   "cell_type": "code",
   "execution_count": null,
   "outputs": [],
   "source": [
    "sns.regplot(data=wb_ctrb_hc_df[wb_ctrb_hc_df['Time'] == \"Y1\"], x=\"Age\", y=\"Whole-brain Avg. Ctrb.\", color=\"blue\")\n",
    "sns.regplot(data=wb_ctrb_tia_df[wb_ctrb_tia_df['Time'] == \"Y1\"], x=\"Age\", y=\"Whole-brain Avg. Ctrb.\", color=\"red\")"
   ],
   "metadata": {
    "collapsed": false,
    "pycharm": {
     "name": "#%%\n"
    }
   }
  },
  {
   "cell_type": "markdown",
   "source": [
    "Y3"
   ],
   "metadata": {
    "collapsed": false
   }
  },
  {
   "cell_type": "code",
   "execution_count": null,
   "outputs": [],
   "source": [
    "sns.regplot(data=wb_ctrb_hc_df[wb_ctrb_hc_df['Time'] == \"Y3\"], x=\"Age\", y=\"Whole-brain Avg. Ctrb.\", color=\"blue\")\n",
    "sns.regplot(data=wb_ctrb_tia_df[wb_ctrb_tia_df['Time'] == \"Y3\"], x=\"Age\", y=\"Whole-brain Avg. Ctrb.\", color=\"red\")"
   ],
   "metadata": {
    "collapsed": false,
    "pycharm": {
     "name": "#%%\n"
    }
   }
  },
  {
   "cell_type": "markdown",
   "source": [
    "Y5"
   ],
   "metadata": {
    "collapsed": false
   }
  },
  {
   "cell_type": "code",
   "execution_count": null,
   "outputs": [],
   "source": [
    "sns.regplot(data=wb_ctrb_hc_df[wb_ctrb_hc_df['Time'] == \"Y5\"], x=\"Age\", y=\"Whole-brain Avg. Ctrb.\", color=\"blue\")\n",
    "sns.regplot(data=wb_ctrb_tia_df[wb_ctrb_tia_df['Time'] == \"Y5\"], x=\"Age\", y=\"Whole-brain Avg. Ctrb.\", color=\"red\")"
   ],
   "metadata": {
    "collapsed": false,
    "pycharm": {
     "name": "#%%\n"
    }
   }
  },
  {
   "cell_type": "markdown",
   "source": [
    "#### Whole-brain Modal Ctrb."
   ],
   "metadata": {
    "collapsed": false
   }
  },
  {
   "cell_type": "code",
   "execution_count": null,
   "outputs": [],
   "source": [
    "for time_group in TIMES:\n",
    "    subset_df = whole_brain_ctrb_df[whole_brain_ctrb_df[\"Time\"] == time_group]\n",
    "    control_subset = subset_df[subset_df[\"C/T\"] == \"HC\"]\n",
    "    tia_subset = subset_df[subset_df[\"C/T\"] == \"P\"]\n",
    "\n",
    "    _, p = mannwhitneyu(control_subset[\"Whole-brain Modal Ctrb.\"], tia_subset[\"Whole-brain Modal Ctrb.\"], method='asymptotic', alternative=\"two-sided\")\n",
    "    print(time_group, p)"
   ],
   "metadata": {
    "collapsed": false,
    "pycharm": {
     "name": "#%%\n"
    }
   }
  },
  {
   "cell_type": "code",
   "execution_count": null,
   "outputs": [],
   "source": [
    "plot_df = whole_brain_ctrb_df\n",
    "plot_df[\"C/T\"].replace(\"HC\", \"Control\", inplace=True)\n",
    "plot_df[\"C/T\"].replace(\"P\", \"TIA\", inplace=True)\n",
    "mod_ctrb_plot = sns.boxplot(data=whole_brain_ctrb_df, x=\"Time\", y=\"Whole-brain Modal Ctrb.\", hue=\"C/T\",\n",
    "                            showfliers=False)\n",
    "sns.move_legend(mod_ctrb_plot, \"upper left\", bbox_to_anchor=(1, 1))\n",
    "plt.savefig(FIGURE_PATH+\"/new analysis/Whole-brain Modal Controllability.png\", dpi=250, bbox_inches='tight')"
   ],
   "metadata": {
    "collapsed": false,
    "pycharm": {
     "name": "#%%\n"
    }
   }
  },
  {
   "cell_type": "markdown",
   "source": [
    "#### Results\n",
    "- The boxplots shows that there is a significant decrease in whole-brain modal ctrb. in TIA group compared to control at BL.\n",
    "- However over time, there is no significant differences between control and TIA group at follow up years 1, 3 and 5.\n",
    "- Ask Emma: how to interpret linear regression lines for each follow up?"
   ],
   "metadata": {
    "collapsed": false
   }
  },
  {
   "cell_type": "markdown",
   "source": [
    "# Longitudinal analysis:\n",
    "\"Super\" controllers\n",
    "- Are there any correlation between the rate of change of controllability and the node's baseline control rank.\n",
    "- For this analysis, we assume linearity and only compare changes of 5-year to baseline.\n",
    "- We calculate the rate based on the number of days between baseline and 5-year scan."
   ],
   "metadata": {
    "collapsed": false
   }
  },
  {
   "cell_type": "code",
   "execution_count": null,
   "outputs": [],
   "source": [
    "import math\n",
    "\n",
    "def get_5_year_regional_ctrb(metric, ptype):\n",
    "    global node_list\n",
    "    default_days_elapsed = 365*5\n",
    "    delta_ctrb = []\n",
    "    bl_rank = []\n",
    "    y5_data = individual_data[f'{ptype}y5']\n",
    "    bl_data = individual_data[f'{ptype}bl']\n",
    "    bl_ids = list(bl_data.keys())\n",
    "    n = 0\n",
    "    for pid, y5_G in y5_data.items():\n",
    "        if pid not in bl_ids:\n",
    "            continue\n",
    "        bl_G = bl_data[pid]\n",
    "        _, bl_G, _ = prev_fct.rank_nodes(bl_G, metric)\n",
    "\n",
    "        y5_ctrb = np.array([y5_G.nodes[node][metric] for node in node_list])\n",
    "        bl_ctrb = np.array([bl_G.nodes[node][metric] for node in node_list])\n",
    "\n",
    "        days_elapsed = metadata.loc[pid][\"Time Between BL and 5-Yr\"]\n",
    "        if math.isnan(days_elapsed):\n",
    "            # print(f\"Error: PID = {pid} for {ptype} does not have scan date for 5-yr and BL.\")\n",
    "            days_elapsed = default_days_elapsed\n",
    "\n",
    "        delta_ctrb.append((y5_ctrb - bl_ctrb)/days_elapsed)  # Instead of 5, use # of days\n",
    "        bl_rank.append(np.array([bl_G.nodes[node][metric + 'Rank'] for node in node_list]))\n",
    "        n += 1\n",
    "    delta_ctrb_narray = np.array(delta_ctrb)\n",
    "    mean_rank_narray = np.array(bl_rank)\n",
    "    print(\"Sample size N = \", n)\n",
    "    return np.mean(delta_ctrb_narray, axis=0), np.mean(mean_rank_narray, axis=0)"
   ],
   "metadata": {
    "collapsed": false,
    "pycharm": {
     "name": "#%%\n"
    }
   }
  },
  {
   "cell_type": "markdown",
   "source": [
    "## Does the strength of regional controllability correlate with the amount of change over 5 years?\n",
    "- Let x-axis be the mean controllability rank\n",
    "- Let y-axis be the daily change over 5 years of that regional controllability value (averaged across all 5 year subjects)"
   ],
   "metadata": {
    "collapsed": false
   }
  },
  {
   "cell_type": "markdown",
   "source": [
    "Average Controllability changes"
   ],
   "metadata": {
    "collapsed": false
   }
  },
  {
   "cell_type": "code",
   "execution_count": null,
   "outputs": [],
   "source": [
    "hc_delta_ctrb, hc_bl_rank = get_5_year_regional_ctrb('avgCtrb', \"HC\")\n",
    "p_delta_ctrb, p_bl_rank = get_5_year_regional_ctrb('avgCtrb', \"P\")"
   ],
   "metadata": {
    "collapsed": false,
    "pycharm": {
     "name": "#%%\n"
    }
   }
  },
  {
   "cell_type": "code",
   "execution_count": null,
   "outputs": [],
   "source": [
    "plt.scatter(hc_bl_rank, hc_delta_ctrb, color=\"blue\", label=\"HC\")\n",
    "plt.scatter(p_bl_rank, p_delta_ctrb, color=\"orange\", marker=\"^\", label=\"TIA\")\n",
    "plt.xlabel(\"Mean Rank\")\n",
    "plt.ylabel(\"Mean $\\Delta$ Average Ctrb. over 5 years\")\n",
    "plt.legend()\n",
    "plt.show()"
   ],
   "metadata": {
    "collapsed": false,
    "pycharm": {
     "name": "#%%\n"
    }
   }
  },
  {
   "cell_type": "markdown",
   "source": [
    "Modal Controllability changes"
   ],
   "metadata": {
    "collapsed": false
   }
  },
  {
   "cell_type": "code",
   "execution_count": null,
   "outputs": [],
   "source": [
    "hc_delta_ctrb, hc_bl_rank = get_5_year_regional_ctrb('modCtrb', \"HC\")\n",
    "p_delta_ctrb, p_bl_rank = get_5_year_regional_ctrb('modCtrb', \"P\")"
   ],
   "metadata": {
    "collapsed": false,
    "pycharm": {
     "name": "#%%\n"
    }
   }
  },
  {
   "cell_type": "code",
   "execution_count": null,
   "outputs": [],
   "source": [
    "plt.scatter(hc_bl_rank, hc_delta_ctrb, color=\"blue\", label=\"HC\")\n",
    "plt.scatter(p_bl_rank, p_delta_ctrb, color=\"orange\", marker=\"^\", label=\"TIA\")\n",
    "plt.xlabel(\"Mean Rank\")\n",
    "plt.ylabel(\"Mean $\\Delta$ Modal Ctrb. over 5 years\")\n",
    "plt.legend()\n",
    "plt.show()"
   ],
   "metadata": {
    "collapsed": false,
    "pycharm": {
     "name": "#%%\n"
    }
   }
  },
  {
   "cell_type": "markdown",
   "source": [
    "#### Results\n",
    "- Nodes with greater average controllability seems to change more over the 5 years. However this change could be increase or decrease."
   ],
   "metadata": {
    "collapsed": false
   }
  },
  {
   "cell_type": "markdown",
   "source": [
    "# Longitudinal analysis: LME\n",
    "\n",
    "- [X] (1) $y =$ whole-brain ctrb, $x =$ age, covariates = gender, education\n",
    "- [ ] (2) $y = Cog Score$, $x = $ age\n",
    "- [ ] (3) $y = Cog Score$, $x = $ wb modal ctrb * we look at modal bc of lit. review paper that found modal changes for these types of clinical cog. tests AND from (1) we know that the group is not a significant factor in predicting average controllability, but rather modal controllability is dependent on group differences."
   ],
   "metadata": {
    "collapsed": false
   }
  },
  {
   "cell_type": "markdown",
   "source": [
    "Export data for (1) to perform LME in R."
   ],
   "metadata": {
    "collapsed": false
   }
  },
  {
   "cell_type": "code",
   "execution_count": null,
   "outputs": [],
   "source": [
    "whole_brain_ctrb_df = get_ctrb_df(node_list, use_rank=False)\n",
    "whole_brain_ctrb_df = whole_brain_ctrb_df.rename(columns={\n",
    "    \"avgCtrb\": \"wbAvgCtrb\",\n",
    "    \"modCtrb\": \"wbModalCtrb\",\n",
    "    \"C/T\": \"group\",\n",
    "    \"Age\": \"age\",\n",
    "    \"Time\": \"time\",\n",
    "    \"ID\": \"id\"})"
   ],
   "metadata": {
    "collapsed": false,
    "pycharm": {
     "name": "#%%\n"
    }
   }
  },
  {
   "cell_type": "markdown",
   "source": [
    "How many TIA patients with both BL and Y5 data?"
   ],
   "metadata": {
    "collapsed": false
   }
  },
  {
   "cell_type": "code",
   "execution_count": null,
   "outputs": [],
   "source": [
    "temp = whole_brain_ctrb_df[whole_brain_ctrb_df[\"group\"] == \"HC\"]\n",
    "temp = temp[(temp[\"time\"] == \"BL\")]\n",
    "print(len(temp.index))"
   ],
   "metadata": {
    "collapsed": false,
    "pycharm": {
     "name": "#%%\n"
    }
   }
  },
  {
   "cell_type": "code",
   "execution_count": null,
   "outputs": [],
   "source": [
    "gender_map = {\"M\": 0, \"F\": 1, \"X\": math.nan}\n",
    "gender = []\n",
    "education = []\n",
    "for pid in whole_brain_ctrb_df[\"id\"]:\n",
    "    gender.append(gender_map[metadata.loc[pid][\"Gender\"]])\n",
    "    education.append(metadata.loc[pid][\"education_yrs\"])\n",
    "\n",
    "whole_brain_ctrb_df[\"education\"] = education\n",
    "whole_brain_ctrb_df[\"gender\"] = gender\n",
    "\n",
    "print_nan_columns(whole_brain_ctrb_df)\n",
    "\n",
    "whole_brain_ctrb_df = whole_brain_ctrb_df.dropna()"
   ],
   "metadata": {
    "collapsed": false,
    "pycharm": {
     "name": "#%%\n"
    }
   }
  },
  {
   "cell_type": "code",
   "execution_count": null,
   "outputs": [],
   "source": [
    "whole_brain_ctrb_df.to_csv('../../PREVENT_Study/dump/wb_ctrb_aging.csv')\n",
    "whole_brain_ctrb_df[whole_brain_ctrb_df['id'] == '118']"
   ],
   "metadata": {
    "collapsed": false,
    "pycharm": {
     "name": "#%%\n"
    }
   }
  }
 ],
 "metadata": {
  "kernelspec": {
   "display_name": "Python 3",
   "language": "python",
   "name": "python3"
  },
  "language_info": {
   "codemirror_mode": {
    "name": "ipython",
    "version": 2
   },
   "file_extension": ".py",
   "mimetype": "text/x-python",
   "name": "python",
   "nbconvert_exporter": "python",
   "pygments_lexer": "ipython2",
   "version": "2.7.6"
  }
 },
 "nbformat": 4,
 "nbformat_minor": 0
}