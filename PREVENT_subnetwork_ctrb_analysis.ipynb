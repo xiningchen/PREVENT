{
 "cells": [
  {
   "cell_type": "markdown",
   "metadata": {
    "collapsed": true,
    "pycharm": {
     "name": "#%% md\n"
    }
   },
   "source": [
    "# Subnetwork Controllability, Aging, and TIA effects\n",
    "Similar to the whole-brain ctrb analysis, except we calculate mean controllability of a subset of nodes grouped based on their functional subnetwork assignment. This assignment was determined by pre-existing atlas since we do not have associated functional networks for this dataset."
   ]
  },
  {
   "cell_type": "code",
   "execution_count": 1,
   "outputs": [
    {
     "name": "stdout",
     "output_type": "stream",
     "text": [
      "3.8.12 (default, Mar  1 2023, 16:37:51) \n",
      "[Clang 13.1.6 (clang-1316.0.21.2.5)]\n",
      "150\n"
     ]
    }
   ],
   "source": [
    "import math\n",
    "import networkx as nx\n",
    "import pandas as pd\n",
    "import numpy as np\n",
    "import importlib\n",
    "import sys\n",
    "import os\n",
    "import matplotlib.pyplot as plt\n",
    "import seaborn as sns\n",
    "print(sys.version)\n",
    "\n",
    "import Towlson_group_code.data_io as myFunc\n",
    "importlib.reload(myFunc)\n",
    "\n",
    "import PREVENT_functions as prev_fct\n",
    "importlib.reload(prev_fct)\n",
    "\n",
    "PICKLE_PATH = '../../PREVENT_Study/pickles/'\n",
    "FIGURE_PATH = '../../PREVENT_Study/figures/'\n",
    "DUMP_PATH = '../../PREVENT_Study/dump/'\n",
    "TIMES = ['BL', 'Y1', 'Y3', 'Y5']\n",
    "metadata, node_list = prev_fct.load_meta_data()\n",
    "print(len(node_list))\n",
    "individual_data = myFunc.load_from_pickle(PICKLE_PATH, 'Normalized_Connectomes.pkl')\n",
    "\n",
    "color_map = {\"BL\": '#1f77b4', \"Y1\": '#ff7f0e', \"Y3\": '#2ca02c', \"Y5\": '#d62728'}\n",
    "\n",
    "# Subnetwork atlas from a spreadsheet\n",
    "node_icn_map, icn_node_map = prev_fct.get_icn_map()"
   ],
   "metadata": {
    "collapsed": false,
    "pycharm": {
     "name": "#%%\n"
    }
   }
  },
  {
   "cell_type": "code",
   "execution_count": 7,
   "outputs": [
    {
     "data": {
      "text/plain": "Unnamed: 0                    186\nAge                           186\nC/T                           186\nGender                        186\neducation_yrs                 166\nMRI Date BL                   120\nMRI Date Y1                    89\nMRI Date Y3                    36\nMRI Date Y5                    30\nTime Between BL and 1-Yr       56\nTime Between 1-Yr and 3-yr     22\nTime Between 3-Yr and 5-Yr     14\nTime Between BL and 5-Yr       12\nTime Between BL and 3-Yr       16\ndtype: int64"
     },
     "execution_count": 7,
     "metadata": {},
     "output_type": "execute_result"
    }
   ],
   "source": [
    "metadata[metadata['C/T'] == \"HC\"].count()"
   ],
   "metadata": {
    "collapsed": false,
    "pycharm": {
     "name": "#%%\n"
    }
   }
  },
  {
   "cell_type": "code",
   "execution_count": 8,
   "outputs": [
    {
     "data": {
      "text/plain": "Unnamed: 0                    238\nAge                           238\nC/T                           238\nGender                        238\neducation_yrs                 204\nMRI Date BL                   227\nMRI Date Y1                   126\nMRI Date Y3                    18\nMRI Date Y5                    30\nTime Between BL and 1-Yr      125\nTime Between 1-Yr and 3-yr     11\nTime Between 3-Yr and 5-Yr      8\nTime Between BL and 5-Yr       30\nTime Between BL and 3-Yr       18\ndtype: int64"
     },
     "execution_count": 8,
     "metadata": {},
     "output_type": "execute_result"
    }
   ],
   "source": [
    "metadata[metadata['C/T'] == \"P\"].count()"
   ],
   "metadata": {
    "collapsed": false,
    "pycharm": {
     "name": "#%%\n"
    }
   }
  },
  {
   "cell_type": "code",
   "execution_count": 2,
   "outputs": [],
   "source": [
    "pType_convert = {\"HC\": \"Control\", \"P\": \"TIA\"}\n",
    "def get_ctrb_df(rois, use_rank = False):\n",
    "    age_years_map = {'BL': 0, 'Y1': 1, 'Y3': 3, 'Y5': 5}\n",
    "    ids = []\n",
    "    time = []\n",
    "    age = []\n",
    "    diagnosis = []\n",
    "    avg_ctrb = []\n",
    "    mod_ctrb = []\n",
    "    for k in individual_data.keys():\n",
    "        if len(k) == 4:\n",
    "            ptype = k[:2]\n",
    "            t = k[2:].upper()\n",
    "        else:\n",
    "            ptype = k[0]\n",
    "            t = k[1:].upper()\n",
    "        for pid, G in individual_data[k].items():\n",
    "            diagnosis.append(pType_convert[ptype])\n",
    "            ids.append(pid)\n",
    "            time.append(t)\n",
    "            age.append(metadata.loc[pid]['Age'] + age_years_map[t])\n",
    "            if use_rank:\n",
    "                _, G, _ = prev_fct.rank_nodes(G, 'avgCtrb')\n",
    "                _, G, _ = prev_fct.rank_nodes(G, 'modCtrb')\n",
    "                avg_ctrb.append(prev_fct.get_avg_node_metric(G, rois, 'avgCtrbRank'))\n",
    "                mod_ctrb.append(prev_fct.get_avg_node_metric(G, rois, 'modCtrbRank'))\n",
    "            else:\n",
    "                avg_ctrb.append(prev_fct.get_avg_node_metric(G, rois, 'avgCtrb'))\n",
    "                mod_ctrb.append(prev_fct.get_avg_node_metric(G, rois, 'modCtrb'))\n",
    "    return pd.DataFrame(data = {'ID': ids, 'Time': time, 'C/T': diagnosis, 'Age': age, 'avgCtrb': avg_ctrb, 'modCtrb': mod_ctrb})"
   ],
   "metadata": {
    "collapsed": false,
    "pycharm": {
     "name": "#%%\n"
    }
   }
  },
  {
   "cell_type": "markdown",
   "source": [
    "# Cross-sectional analysis\n",
    "Functional network (FN) controllability changes. FN Controllability is defined as the average of all nodal controllability in the FN.\n",
    "- To prevent the problem of having non-independent datapoints, we will separate out baseline, 1-year, 3-year, and 5-year data based on color.\n",
    "- Since this is not looking at rate of change, all available data points are used.\n",
    "- $x$ = time (BL, Y1, Y3, Y5), $y$ = FN controllability, color by group (Control vs TIA)"
   ],
   "metadata": {
    "collapsed": false,
    "pycharm": {
     "name": "#%% md\n"
    }
   }
  },
  {
   "cell_type": "code",
   "execution_count": 3,
   "outputs": [
    {
     "data": {
      "text/plain": "    ID Time      C/T  Age  Avg. Ctrb.  Modal Ctrb. Functional Network\n0  118   BL  Control   61    1.071150     0.957643           Auditory\n1  103   BL  Control   44    1.143262     0.925726           Auditory\n2  088   BL  Control   68    1.074521     0.959506           Auditory\n3  093   BL  Control   63    1.101124     0.941241           Auditory\n4  213   BL  Control   60    1.202441     0.920660           Auditory",
      "text/html": "<div>\n<style scoped>\n    .dataframe tbody tr th:only-of-type {\n        vertical-align: middle;\n    }\n\n    .dataframe tbody tr th {\n        vertical-align: top;\n    }\n\n    .dataframe thead th {\n        text-align: right;\n    }\n</style>\n<table border=\"1\" class=\"dataframe\">\n  <thead>\n    <tr style=\"text-align: right;\">\n      <th></th>\n      <th>ID</th>\n      <th>Time</th>\n      <th>C/T</th>\n      <th>Age</th>\n      <th>Avg. Ctrb.</th>\n      <th>Modal Ctrb.</th>\n      <th>Functional Network</th>\n    </tr>\n  </thead>\n  <tbody>\n    <tr>\n      <th>0</th>\n      <td>118</td>\n      <td>BL</td>\n      <td>Control</td>\n      <td>61</td>\n      <td>1.071150</td>\n      <td>0.957643</td>\n      <td>Auditory</td>\n    </tr>\n    <tr>\n      <th>1</th>\n      <td>103</td>\n      <td>BL</td>\n      <td>Control</td>\n      <td>44</td>\n      <td>1.143262</td>\n      <td>0.925726</td>\n      <td>Auditory</td>\n    </tr>\n    <tr>\n      <th>2</th>\n      <td>088</td>\n      <td>BL</td>\n      <td>Control</td>\n      <td>68</td>\n      <td>1.074521</td>\n      <td>0.959506</td>\n      <td>Auditory</td>\n    </tr>\n    <tr>\n      <th>3</th>\n      <td>093</td>\n      <td>BL</td>\n      <td>Control</td>\n      <td>63</td>\n      <td>1.101124</td>\n      <td>0.941241</td>\n      <td>Auditory</td>\n    </tr>\n    <tr>\n      <th>4</th>\n      <td>213</td>\n      <td>BL</td>\n      <td>Control</td>\n      <td>60</td>\n      <td>1.202441</td>\n      <td>0.920660</td>\n      <td>Auditory</td>\n    </tr>\n  </tbody>\n</table>\n</div>"
     },
     "execution_count": 3,
     "metadata": {},
     "output_type": "execute_result"
    }
   ],
   "source": [
    "subnetwork_ctrb_df = None\n",
    "\n",
    "for icn_name, icn_nodes in icn_node_map.items():\n",
    "    temp_df = get_ctrb_df(icn_nodes)\n",
    "    temp_df[\"Functional Network\"] = [icn_name.capitalize()]*len(temp_df.index)\n",
    "    if subnetwork_ctrb_df is None:\n",
    "        subnetwork_ctrb_df = temp_df\n",
    "    else:\n",
    "        subnetwork_ctrb_df = pd.concat([subnetwork_ctrb_df, temp_df])\n",
    "\n",
    "subnetwork_ctrb_df = subnetwork_ctrb_df.rename(columns={\"avgCtrb\": \"Avg. Ctrb.\", \"modCtrb\": \"Modal Ctrb.\"})\n",
    "subnetwork_ctrb_df.head(5)"
   ],
   "metadata": {
    "collapsed": false,
    "pycharm": {
     "name": "#%%\n"
    }
   }
  },
  {
   "cell_type": "code",
   "execution_count": 5,
   "outputs": [
    {
     "data": {
      "text/plain": "['Auditory',\n 'Dorsal attention',\n 'Somatosensory',\n 'Fronto-parietal',\n 'Other',\n 'Default mode',\n 'Visual',\n 'Cingulo-opercular',\n 'Ventral attention',\n 'Somatosensory-motor']"
     },
     "execution_count": 5,
     "metadata": {},
     "output_type": "execute_result"
    }
   ],
   "source": [
    "ICN_list = list(subnetwork_ctrb_df['Functional Network'].unique())\n",
    "ICN_list"
   ],
   "metadata": {
    "collapsed": false,
    "pycharm": {
     "name": "#%%\n"
    }
   }
  },
  {
   "cell_type": "markdown",
   "source": [
    "### Subnetwork Average Controllability Cross-section differences\n",
    "Average Controllability\n",
    "\n",
    "| FN                | p-value          | Time |\n",
    "|-------------------|------------------|------|\n",
    "| AUD               | $p' = 1.029e-09$ | BL |\n",
    "| FPN               | $p' = 4.61e-07$   | BL |\n",
    "| Cingulo-opercular | $p = 0.0121$     | BL |\n",
    "| vATN              | $p' = 0.0069339$ | BL |"
   ],
   "metadata": {
    "collapsed": false,
    "pycharm": {
     "name": "#%% md\n"
    }
   }
  },
  {
   "cell_type": "code",
   "execution_count": 16,
   "outputs": [
    {
     "name": "stdout",
     "output_type": "stream",
     "text": [
      "Auditory 0\n",
      "BL 1.0295449988861503e-09\n",
      "\n",
      "Dorsal attention 1\n",
      "\n",
      "Somatosensory 2\n",
      "\n",
      "Fronto-parietal 3\n",
      "BL 4.6088988267975854e-07\n",
      "\n",
      "Other 4\n",
      "\n",
      "Default mode 5\n",
      "\n",
      "Visual 6\n",
      "\n",
      "Cingulo-opercular 7\n",
      "\n",
      "Ventral attention 8\n",
      "BL 0.006933929291840602\n",
      "\n",
      "Somatosensory-motor 9\n",
      "\n"
     ]
    }
   ],
   "source": [
    "from scipy.stats import mannwhitneyu\n",
    "\n",
    "for idx, icn in enumerate(ICN_list):\n",
    "    print(icn, idx)\n",
    "    for time_group in TIMES:\n",
    "        fn_df = subnetwork_ctrb_df[subnetwork_ctrb_df[\"Functional Network\"] == icn]\n",
    "        fn_time_subset_df = fn_df[fn_df[\"Time\"] == time_group]\n",
    "        control_subset = fn_time_subset_df[fn_time_subset_df[\"C/T\"] == \"Control\"]\n",
    "        tia_subset = fn_time_subset_df[fn_time_subset_df[\"C/T\"] == \"TIA\"]\n",
    "\n",
    "        _, p = mannwhitneyu(control_subset[\"Avg. Ctrb.\"], tia_subset[\"Avg. Ctrb.\"], method='asymptotic', alternative=\"two-sided\")\n",
    "        p_adj = p*len(TIMES)*len(ICN_list)\n",
    "        if p_adj < 0.05:\n",
    "            print(time_group, p_adj)\n",
    "    print()"
   ],
   "metadata": {
    "collapsed": false,
    "pycharm": {
     "name": "#%%\n"
    }
   }
  },
  {
   "cell_type": "code",
   "execution_count": 76,
   "outputs": [
    {
     "data": {
      "text/plain": "Text(0.5, 1.0, 'Visual')"
     },
     "execution_count": 76,
     "metadata": {},
     "output_type": "execute_result"
    },
    {
     "data": {
      "text/plain": "<Figure size 432x288 with 1 Axes>",
      "image/png": "[encoded data removed]"
     },
     "metadata": {
      "needs_background": "light"
     },
     "output_type": "display_data"
    }
   ],
   "source": [
    "icn = ICN_list[6]\n",
    "fn_df = subnetwork_ctrb_df[subnetwork_ctrb_df[\"Functional Network\"] == icn]\n",
    "\n",
    "plot = sns.boxplot(data=fn_df, x=\"Time\", y=\"Avg. Ctrb.\", hue=\"C/T\", showfliers = False)\n",
    "sns.move_legend(plot, \"upper left\", bbox_to_anchor=(1, 1))\n",
    "plot.set_title(icn)\n",
    "# plt.savefig(FIGURE_PATH+f\"/new analysis/{icn} Average Controllability.png\", dpi=250, bbox_inches='tight')"
   ],
   "metadata": {
    "collapsed": false,
    "pycharm": {
     "name": "#%%\n"
    }
   }
  },
  {
   "cell_type": "markdown",
   "source": [
    "### Subnetwork Modal Controllability Cross-section differences\n",
    "Modal Controllability\n",
    "\n",
    "| FN                | p-value           | Time |\n",
    "|-------------------|-------------------|------|\n",
    "| AUD               | $p = 1.02518e-11$ | BL   |\n",
    "| AUD               | $p = 0.01430568$ | Y1   |\n",
    "| AUD               | $p = 0.0279585$ | Y5   |\n",
    "| dATN              | $p = 0.032615$   | BL   |\n",
    "| FPN               | $p = 2.7983e-06$  | BL   |\n",
    "| Cingulo-opercular | $p = 0.0005435$  | BL   |\n",
    "| vATN              | $p = 0.0001788$  | BL   |"
   ],
   "metadata": {
    "collapsed": false
   }
  },
  {
   "cell_type": "code",
   "execution_count": 15,
   "outputs": [
    {
     "name": "stdout",
     "output_type": "stream",
     "text": [
      "Auditory 0\n",
      "BL 4.1007087420271957e-10\n",
      "\n",
      "Dorsal attention 1\n",
      "\n",
      "Somatosensory 2\n",
      "\n",
      "Fronto-parietal 3\n",
      "BL 0.00011193218347827494\n",
      "\n",
      "Other 4\n",
      "\n",
      "Default mode 5\n",
      "\n",
      "Visual 6\n",
      "\n",
      "Cingulo-opercular 7\n",
      "BL 0.021740744766592986\n",
      "\n",
      "Ventral attention 8\n",
      "BL 0.00715324750570675\n",
      "\n",
      "Somatosensory-motor 9\n",
      "\n"
     ]
    }
   ],
   "source": [
    "for idx, icn in enumerate(ICN_list):\n",
    "    print(icn, idx)\n",
    "    for time_group in TIMES:\n",
    "        fn_df = subnetwork_ctrb_df[subnetwork_ctrb_df[\"Functional Network\"] == icn]\n",
    "        fn_time_subset_df = fn_df[fn_df[\"Time\"] == time_group]\n",
    "        control_subset = fn_time_subset_df[fn_time_subset_df[\"C/T\"] == \"Control\"]\n",
    "        tia_subset = fn_time_subset_df[fn_time_subset_df[\"C/T\"] == \"TIA\"]\n",
    "\n",
    "        _, p = mannwhitneyu(control_subset[\"Modal Ctrb.\"], tia_subset[\"Modal Ctrb.\"], method='asymptotic', alternative=\"two-sided\")\n",
    "        p_adj = p*len(TIMES)*len(ICN_list)\n",
    "        if p_adj < 0.05:\n",
    "            print(time_group, p_adj)\n",
    "    print()"
   ],
   "metadata": {
    "collapsed": false,
    "pycharm": {
     "name": "#%%\n"
    }
   }
  },
  {
   "cell_type": "code",
   "execution_count": 77,
   "outputs": [
    {
     "data": {
      "text/plain": "Text(0.5, 1.0, 'Visual')"
     },
     "execution_count": 77,
     "metadata": {},
     "output_type": "execute_result"
    },
    {
     "data": {
      "text/plain": "<Figure size 432x288 with 1 Axes>",
      "image/png": "[encoded data removed]"
     },
     "metadata": {
      "needs_background": "light"
     },
     "output_type": "display_data"
    }
   ],
   "source": [
    "icn = ICN_list[6]\n",
    "fn_df = subnetwork_ctrb_df[subnetwork_ctrb_df[\"Functional Network\"] == icn]\n",
    "\n",
    "plot = sns.boxplot(data=fn_df, x=\"Time\", y=\"Modal Ctrb.\", hue=\"C/T\")\n",
    "sns.move_legend(plot, \"upper left\", bbox_to_anchor=(1, 1))\n",
    "plot.set_title(icn)\n",
    "# plt.savefig(FIGURE_PATH+f\"/new analysis/{icn} Modal Controllability.png\", dpi=250, bbox_inches='tight')"
   ],
   "metadata": {
    "collapsed": false,
    "pycharm": {
     "name": "#%%\n"
    }
   }
  },
  {
   "cell_type": "markdown",
   "source": [
    "# Longitudinal analysis: LME\n",
    "For this section, we will export/prep data to be modelled in **SPSS statistics**.\n",
    "\n",
    "- [ ] (1) $y =$ FN ctrb, $x =$ age, covariates = gender, education\n",
    "- [ ] (2) $y = Cog Score$, $x = $ age\n",
    "- [ ] (3) $y = Cog Score$, $x = $ FN modal ctrb"
   ],
   "metadata": {
    "collapsed": false,
    "pycharm": {
     "name": "#%% md\n"
    }
   }
  },
  {
   "cell_type": "markdown",
   "source": [
    "Export data for (1) to perform LME in SPSS."
   ],
   "metadata": {
    "collapsed": false,
    "pycharm": {
     "name": "#%% md\n"
    }
   }
  },
  {
   "cell_type": "code",
   "execution_count": 64,
   "outputs": [
    {
     "data": {
      "text/plain": "    ID Time      C/T  Age  Avg. Ctrb.  Modal Ctrb. Functional Network\n0  118   BL  Control   61    1.071150     0.957643           Auditory\n1  103   BL  Control   44    1.143262     0.925726           Auditory\n2  088   BL  Control   68    1.074521     0.959506           Auditory\n3  093   BL  Control   63    1.101124     0.941241           Auditory\n4  213   BL  Control   60    1.202441     0.920660           Auditory",
      "text/html": "<div>\n<style scoped>\n    .dataframe tbody tr th:only-of-type {\n        vertical-align: middle;\n    }\n\n    .dataframe tbody tr th {\n        vertical-align: top;\n    }\n\n    .dataframe thead th {\n        text-align: right;\n    }\n</style>\n<table border=\"1\" class=\"dataframe\">\n  <thead>\n    <tr style=\"text-align: right;\">\n      <th></th>\n      <th>ID</th>\n      <th>Time</th>\n      <th>C/T</th>\n      <th>Age</th>\n      <th>Avg. Ctrb.</th>\n      <th>Modal Ctrb.</th>\n      <th>Functional Network</th>\n    </tr>\n  </thead>\n  <tbody>\n    <tr>\n      <th>0</th>\n      <td>118</td>\n      <td>BL</td>\n      <td>Control</td>\n      <td>61</td>\n      <td>1.071150</td>\n      <td>0.957643</td>\n      <td>Auditory</td>\n    </tr>\n    <tr>\n      <th>1</th>\n      <td>103</td>\n      <td>BL</td>\n      <td>Control</td>\n      <td>44</td>\n      <td>1.143262</td>\n      <td>0.925726</td>\n      <td>Auditory</td>\n    </tr>\n    <tr>\n      <th>2</th>\n      <td>088</td>\n      <td>BL</td>\n      <td>Control</td>\n      <td>68</td>\n      <td>1.074521</td>\n      <td>0.959506</td>\n      <td>Auditory</td>\n    </tr>\n    <tr>\n      <th>3</th>\n      <td>093</td>\n      <td>BL</td>\n      <td>Control</td>\n      <td>63</td>\n      <td>1.101124</td>\n      <td>0.941241</td>\n      <td>Auditory</td>\n    </tr>\n    <tr>\n      <th>4</th>\n      <td>213</td>\n      <td>BL</td>\n      <td>Control</td>\n      <td>60</td>\n      <td>1.202441</td>\n      <td>0.920660</td>\n      <td>Auditory</td>\n    </tr>\n  </tbody>\n</table>\n</div>"
     },
     "execution_count": 64,
     "metadata": {},
     "output_type": "execute_result"
    }
   ],
   "source": [
    "subnetwork_ctrb_df.head(5)"
   ],
   "metadata": {
    "collapsed": false,
    "pycharm": {
     "name": "#%%\n"
    }
   }
  },
  {
   "cell_type": "code",
   "execution_count": 9,
   "outputs": [
    {
     "data": {
      "text/plain": "    Id Time    Group  Age   AvgCtrb  ModalCtrb        Fn\n0  118   BL  Control   61  1.071150   0.957643  Auditory\n1  103   BL  Control   44  1.143262   0.925726  Auditory\n2  088   BL  Control   68  1.074521   0.959506  Auditory\n3  093   BL  Control   63  1.101124   0.941241  Auditory\n4  213   BL  Control   60  1.202441   0.920660  Auditory",
      "text/html": "<div>\n<style scoped>\n    .dataframe tbody tr th:only-of-type {\n        vertical-align: middle;\n    }\n\n    .dataframe tbody tr th {\n        vertical-align: top;\n    }\n\n    .dataframe thead th {\n        text-align: right;\n    }\n</style>\n<table border=\"1\" class=\"dataframe\">\n  <thead>\n    <tr style=\"text-align: right;\">\n      <th></th>\n      <th>Id</th>\n      <th>Time</th>\n      <th>Group</th>\n      <th>Age</th>\n      <th>AvgCtrb</th>\n      <th>ModalCtrb</th>\n      <th>Fn</th>\n    </tr>\n  </thead>\n  <tbody>\n    <tr>\n      <th>0</th>\n      <td>118</td>\n      <td>BL</td>\n      <td>Control</td>\n      <td>61</td>\n      <td>1.071150</td>\n      <td>0.957643</td>\n      <td>Auditory</td>\n    </tr>\n    <tr>\n      <th>1</th>\n      <td>103</td>\n      <td>BL</td>\n      <td>Control</td>\n      <td>44</td>\n      <td>1.143262</td>\n      <td>0.925726</td>\n      <td>Auditory</td>\n    </tr>\n    <tr>\n      <th>2</th>\n      <td>088</td>\n      <td>BL</td>\n      <td>Control</td>\n      <td>68</td>\n      <td>1.074521</td>\n      <td>0.959506</td>\n      <td>Auditory</td>\n    </tr>\n    <tr>\n      <th>3</th>\n      <td>093</td>\n      <td>BL</td>\n      <td>Control</td>\n      <td>63</td>\n      <td>1.101124</td>\n      <td>0.941241</td>\n      <td>Auditory</td>\n    </tr>\n    <tr>\n      <th>4</th>\n      <td>213</td>\n      <td>BL</td>\n      <td>Control</td>\n      <td>60</td>\n      <td>1.202441</td>\n      <td>0.920660</td>\n      <td>Auditory</td>\n    </tr>\n  </tbody>\n</table>\n</div>"
     },
     "execution_count": 9,
     "metadata": {},
     "output_type": "execute_result"
    }
   ],
   "source": [
    "export_df = subnetwork_ctrb_df.rename(columns={\n",
    "    \"Avg. Ctrb.\": \"AvgCtrb\",\n",
    "    \"Modal Ctrb.\": \"ModalCtrb\",\n",
    "    \"Functional Network\": \"Fn\",\n",
    "    \"C/T\": \"Group\",\n",
    "    \"Age\": \"Age\",\n",
    "    \"Time\": \"Time\",\n",
    "    \"ID\": \"Id\"})\n",
    "\n",
    "export_df.head(5)"
   ],
   "metadata": {
    "collapsed": false,
    "pycharm": {
     "name": "#%%\n"
    }
   }
  },
  {
   "cell_type": "markdown",
   "source": [
    "Add in Biological sex and education years data points"
   ],
   "metadata": {
    "collapsed": false,
    "pycharm": {
     "name": "#%% md\n"
    }
   }
  },
  {
   "cell_type": "code",
   "execution_count": 10,
   "outputs": [
    {
     "data": {
      "text/plain": "    Id Time    Group  Age   AvgCtrb  ModalCtrb        Fn  EducationYrs BioSex\n0  118   BL  Control   61  1.071150   0.957643  Auditory          16.0      M\n1  103   BL  Control   44  1.143262   0.925726  Auditory          16.0      M\n2  088   BL  Control   68  1.074521   0.959506  Auditory          12.0      M\n3  093   BL  Control   63  1.101124   0.941241  Auditory          12.0      F\n4  213   BL  Control   60  1.202441   0.920660  Auditory          14.0      F",
      "text/html": "<div>\n<style scoped>\n    .dataframe tbody tr th:only-of-type {\n        vertical-align: middle;\n    }\n\n    .dataframe tbody tr th {\n        vertical-align: top;\n    }\n\n    .dataframe thead th {\n        text-align: right;\n    }\n</style>\n<table border=\"1\" class=\"dataframe\">\n  <thead>\n    <tr style=\"text-align: right;\">\n      <th></th>\n      <th>Id</th>\n      <th>Time</th>\n      <th>Group</th>\n      <th>Age</th>\n      <th>AvgCtrb</th>\n      <th>ModalCtrb</th>\n      <th>Fn</th>\n      <th>EducationYrs</th>\n      <th>BioSex</th>\n    </tr>\n  </thead>\n  <tbody>\n    <tr>\n      <th>0</th>\n      <td>118</td>\n      <td>BL</td>\n      <td>Control</td>\n      <td>61</td>\n      <td>1.071150</td>\n      <td>0.957643</td>\n      <td>Auditory</td>\n      <td>16.0</td>\n      <td>M</td>\n    </tr>\n    <tr>\n      <th>1</th>\n      <td>103</td>\n      <td>BL</td>\n      <td>Control</td>\n      <td>44</td>\n      <td>1.143262</td>\n      <td>0.925726</td>\n      <td>Auditory</td>\n      <td>16.0</td>\n      <td>M</td>\n    </tr>\n    <tr>\n      <th>2</th>\n      <td>088</td>\n      <td>BL</td>\n      <td>Control</td>\n      <td>68</td>\n      <td>1.074521</td>\n      <td>0.959506</td>\n      <td>Auditory</td>\n      <td>12.0</td>\n      <td>M</td>\n    </tr>\n    <tr>\n      <th>3</th>\n      <td>093</td>\n      <td>BL</td>\n      <td>Control</td>\n      <td>63</td>\n      <td>1.101124</td>\n      <td>0.941241</td>\n      <td>Auditory</td>\n      <td>12.0</td>\n      <td>F</td>\n    </tr>\n    <tr>\n      <th>4</th>\n      <td>213</td>\n      <td>BL</td>\n      <td>Control</td>\n      <td>60</td>\n      <td>1.202441</td>\n      <td>0.920660</td>\n      <td>Auditory</td>\n      <td>14.0</td>\n      <td>F</td>\n    </tr>\n  </tbody>\n</table>\n</div>"
     },
     "execution_count": 10,
     "metadata": {},
     "output_type": "execute_result"
    }
   ],
   "source": [
    "gender = []\n",
    "education = []\n",
    "for pid in export_df[\"Id\"]:\n",
    "    gender.append(metadata.loc[pid][\"Gender\"])\n",
    "    education.append(metadata.loc[pid][\"education_yrs\"])\n",
    "\n",
    "export_df[\"EducationYrs\"] = education\n",
    "export_df[\"BioSex\"] = gender\n",
    "export_df.head(5)"
   ],
   "metadata": {
    "collapsed": false,
    "pycharm": {
     "name": "#%%\n"
    }
   }
  },
  {
   "cell_type": "code",
   "execution_count": 8,
   "outputs": [
    {
     "data": {
      "text/plain": "    Id Time  Group  Age   AvgCtrb  ModalCtrb        Fn  EducationYrs BioSex\n0  118   BL      0   61  1.071150   0.957643  Auditory          16.0      0\n1  103   BL      0   44  1.143262   0.925726  Auditory          16.0      0\n2  088   BL      0   68  1.074521   0.959506  Auditory          12.0      0\n3  093   BL      0   63  1.101124   0.941241  Auditory          12.0      1\n4  213   BL      0   60  1.202441   0.920660  Auditory          14.0      1",
      "text/html": "<div>\n<style scoped>\n    .dataframe tbody tr th:only-of-type {\n        vertical-align: middle;\n    }\n\n    .dataframe tbody tr th {\n        vertical-align: top;\n    }\n\n    .dataframe thead th {\n        text-align: right;\n    }\n</style>\n<table border=\"1\" class=\"dataframe\">\n  <thead>\n    <tr style=\"text-align: right;\">\n      <th></th>\n      <th>Id</th>\n      <th>Time</th>\n      <th>Group</th>\n      <th>Age</th>\n      <th>AvgCtrb</th>\n      <th>ModalCtrb</th>\n      <th>Fn</th>\n      <th>EducationYrs</th>\n      <th>BioSex</th>\n    </tr>\n  </thead>\n  <tbody>\n    <tr>\n      <th>0</th>\n      <td>118</td>\n      <td>BL</td>\n      <td>0</td>\n      <td>61</td>\n      <td>1.071150</td>\n      <td>0.957643</td>\n      <td>Auditory</td>\n      <td>16.0</td>\n      <td>0</td>\n    </tr>\n    <tr>\n      <th>1</th>\n      <td>103</td>\n      <td>BL</td>\n      <td>0</td>\n      <td>44</td>\n      <td>1.143262</td>\n      <td>0.925726</td>\n      <td>Auditory</td>\n      <td>16.0</td>\n      <td>0</td>\n    </tr>\n    <tr>\n      <th>2</th>\n      <td>088</td>\n      <td>BL</td>\n      <td>0</td>\n      <td>68</td>\n      <td>1.074521</td>\n      <td>0.959506</td>\n      <td>Auditory</td>\n      <td>12.0</td>\n      <td>0</td>\n    </tr>\n    <tr>\n      <th>3</th>\n      <td>093</td>\n      <td>BL</td>\n      <td>0</td>\n      <td>63</td>\n      <td>1.101124</td>\n      <td>0.941241</td>\n      <td>Auditory</td>\n      <td>12.0</td>\n      <td>1</td>\n    </tr>\n    <tr>\n      <th>4</th>\n      <td>213</td>\n      <td>BL</td>\n      <td>0</td>\n      <td>60</td>\n      <td>1.202441</td>\n      <td>0.920660</td>\n      <td>Auditory</td>\n      <td>14.0</td>\n      <td>1</td>\n    </tr>\n  </tbody>\n</table>\n</div>"
     },
     "execution_count": 8,
     "metadata": {},
     "output_type": "execute_result"
    }
   ],
   "source": [
    "# export_df[\"BioSex\"].replace(\"M\", 0, inplace=True)\n",
    "# export_df[\"BioSex\"].replace(\"F\", 1, inplace=True)\n",
    "# export_df[\"Group\"].replace(\"Control\", 0, inplace=True)\n",
    "# export_df[\"Group\"].replace(\"TIA\", 1, inplace=True)\n",
    "# export_df.head(5)"
   ],
   "metadata": {
    "collapsed": false,
    "pycharm": {
     "name": "#%%\n"
    }
   }
  },
  {
   "cell_type": "code",
   "execution_count": 18,
   "outputs": [],
   "source": [
    "icn = ICN_list[6]\n",
    "export_df[export_df[\"Fn\"] == icn].to_csv(f'../../PREVENT_Study/dump/{icn}_ctrb_aging.csv')\n"
   ],
   "metadata": {
    "collapsed": false,
    "pycharm": {
     "name": "#%%\n"
    }
   }
  },
  {
   "cell_type": "markdown",
   "source": [
    "# Subnetwork Controllability and Cognitive scores\n",
    "- Longitudinal analysis: LME modelling in R.\n",
    "- Already have everything. Just need to pull in cog. test score data."
   ],
   "metadata": {
    "collapsed": false
   }
  },
  {
   "cell_type": "code",
   "execution_count": 7,
   "outputs": [
    {
     "data": {
      "text/plain": "array(['Auditory', 'Dorsal attention', 'Somatosensory', 'Fronto-parietal',\n       'Other', 'Default mode', 'Visual', 'Cingulo-opercular',\n       'Ventral attention', 'Somatosensory-motor'], dtype=object)"
     },
     "execution_count": 7,
     "metadata": {},
     "output_type": "execute_result"
    }
   ],
   "source": [
    "AUD = ICN_list[0]\n",
    "FPN = ICN_list[3]\n",
    "VIS = ICN_list[6]\n",
    "CON = ICN_list[7]\n",
    "\n",
    "cognitive_domains_map = {'visual memory': ['bvmt_total_recall', 'bvmt_delayed_recall'],\n",
    "                'verbal memory': ['ravlt_list_a_delay_recall'],\n",
    "                'processing speed': ['tmt_trail_a_time'],\n",
    "                'executive function': ['tmt_trail_b_time', 'wais_r_total'],\n",
    "                'premorbid IQ': ['naart_total']}\n",
    "\n",
    "def loadBehaviorData(sheetname):\n",
    "    # behavior_df = pd.read_excel('../PREVENT_Study/data/PREVENT_Data_Xining_Oct_2022.xlsx', sheet_name=sheetname, index_col=None, header=0)\n",
    "    behavior_df = pd.read_excel('../../PREVENT_Study/data/cognitive_scores.xlsx', sheet_name=sheetname.lower(), index_col=None, header=0)\n",
    "    ids = []\n",
    "    for i in behavior_df['ID']:\n",
    "        id = str(i)\n",
    "        if len(id) < 3:\n",
    "            id = '0'*(3-len(id))+id\n",
    "        ids.append(id)\n",
    "    behavior_df['ID'] = ids\n",
    "    behavior_df = behavior_df.drop(['tmt_trail_b_dn', 'tmt_trail_a_dn'], axis=1)\n",
    "    behavior_df = behavior_df.set_index(['ID'])\n",
    "    return behavior_df\n",
    "\n",
    "bl_score = loadBehaviorData('bl')\n",
    "y1_score = loadBehaviorData('y1')\n",
    "y3_score = loadBehaviorData('y3')\n",
    "y5_score = loadBehaviorData('y5')\n",
    "\n",
    "subnetwork_ctrb_df = None\n",
    "\n",
    "for icn_name, icn_nodes in icn_node_map.items():\n",
    "    temp_df = get_ctrb_df(icn_nodes)\n",
    "    temp_df[\"Functional Network\"] = [icn_name.capitalize()]*len(temp_df.index)\n",
    "    if subnetwork_ctrb_df is None:\n",
    "        subnetwork_ctrb_df = temp_df\n",
    "    else:\n",
    "        subnetwork_ctrb_df = pd.concat([subnetwork_ctrb_df, temp_df])\n",
    "\n",
    "# subnetwork_ctrb_df.drop(columns=['avgCtrb'], inplace=True)\n",
    "subnetwork_ctrb_df['Functional Network'].unique()"
   ],
   "metadata": {
    "collapsed": false,
    "pycharm": {
     "name": "#%%\n"
    }
   }
  },
  {
   "cell_type": "markdown",
   "source": [
    "### Visual memory"
   ],
   "metadata": {
    "collapsed": false
   }
  },
  {
   "cell_type": "code",
   "execution_count": 63,
   "outputs": [
    {
     "name": "stderr",
     "output_type": "stream",
     "text": [
      "/var/folders/4y/c5k89vrd43d510t1vrpm1t180000gn/T/ipykernel_2357/4116234601.py:2: SettingWithCopyWarning: \n",
      "A value is trying to be set on a copy of a slice from a DataFrame\n",
      "\n",
      "See the caveats in the documentation: https://pandas.pydata.org/pandas-docs/stable/user_guide/indexing.html#returning-a-view-versus-a-copy\n",
      "  fpn_ctrb_df.rename(columns={\"modCtrb\": \"FPN\"}, inplace=True)\n",
      "/var/folders/4y/c5k89vrd43d510t1vrpm1t180000gn/T/ipykernel_2357/4116234601.py:3: SettingWithCopyWarning: \n",
      "A value is trying to be set on a copy of a slice from a DataFrame\n",
      "\n",
      "See the caveats in the documentation: https://pandas.pydata.org/pandas-docs/stable/user_guide/indexing.html#returning-a-view-versus-a-copy\n",
      "  fpn_ctrb_df.drop(columns=[\"Functional Network\"], inplace=True)\n",
      "/var/folders/4y/c5k89vrd43d510t1vrpm1t180000gn/T/ipykernel_2357/4116234601.py:6: SettingWithCopyWarning: \n",
      "A value is trying to be set on a copy of a slice from a DataFrame\n",
      "\n",
      "See the caveats in the documentation: https://pandas.pydata.org/pandas-docs/stable/user_guide/indexing.html#returning-a-view-versus-a-copy\n",
      "  vis_ctrb_df.rename(columns={\"modCtrb\": \"VIS\"}, inplace=True)\n",
      "/var/folders/4y/c5k89vrd43d510t1vrpm1t180000gn/T/ipykernel_2357/4116234601.py:7: SettingWithCopyWarning: \n",
      "A value is trying to be set on a copy of a slice from a DataFrame\n",
      "\n",
      "See the caveats in the documentation: https://pandas.pydata.org/pandas-docs/stable/user_guide/indexing.html#returning-a-view-versus-a-copy\n",
      "  vis_ctrb_df.drop(columns=[\"Functional Network\", \"C/T\", \"Age\"], inplace=True)\n"
     ]
    },
    {
     "data": {
      "text/plain": "    ID Time      C/T  Age       FPN       VIS\n0  118   BL  Control   61  0.946620  0.924374\n1  103   BL  Control   44  0.946897  0.909372\n2  088   BL  Control   68  0.959859  0.902101\n3  093   BL  Control   63  0.968023  0.926139\n4  213   BL  Control   60  0.939988  0.901556",
      "text/html": "<div>\n<style scoped>\n    .dataframe tbody tr th:only-of-type {\n        vertical-align: middle;\n    }\n\n    .dataframe tbody tr th {\n        vertical-align: top;\n    }\n\n    .dataframe thead th {\n        text-align: right;\n    }\n</style>\n<table border=\"1\" class=\"dataframe\">\n  <thead>\n    <tr style=\"text-align: right;\">\n      <th></th>\n      <th>ID</th>\n      <th>Time</th>\n      <th>C/T</th>\n      <th>Age</th>\n      <th>FPN</th>\n      <th>VIS</th>\n    </tr>\n  </thead>\n  <tbody>\n    <tr>\n      <th>0</th>\n      <td>118</td>\n      <td>BL</td>\n      <td>Control</td>\n      <td>61</td>\n      <td>0.946620</td>\n      <td>0.924374</td>\n    </tr>\n    <tr>\n      <th>1</th>\n      <td>103</td>\n      <td>BL</td>\n      <td>Control</td>\n      <td>44</td>\n      <td>0.946897</td>\n      <td>0.909372</td>\n    </tr>\n    <tr>\n      <th>2</th>\n      <td>088</td>\n      <td>BL</td>\n      <td>Control</td>\n      <td>68</td>\n      <td>0.959859</td>\n      <td>0.902101</td>\n    </tr>\n    <tr>\n      <th>3</th>\n      <td>093</td>\n      <td>BL</td>\n      <td>Control</td>\n      <td>63</td>\n      <td>0.968023</td>\n      <td>0.926139</td>\n    </tr>\n    <tr>\n      <th>4</th>\n      <td>213</td>\n      <td>BL</td>\n      <td>Control</td>\n      <td>60</td>\n      <td>0.939988</td>\n      <td>0.901556</td>\n    </tr>\n  </tbody>\n</table>\n</div>"
     },
     "execution_count": 63,
     "metadata": {},
     "output_type": "execute_result"
    }
   ],
   "source": [
    "fpn_ctrb_df = subnetwork_ctrb_df[subnetwork_ctrb_df[\"Functional Network\"] == FPN]\n",
    "fpn_ctrb_df.rename(columns={\"modCtrb\": \"FPN\"}, inplace=True)\n",
    "fpn_ctrb_df.drop(columns=[\"Functional Network\"], inplace=True)\n",
    "\n",
    "vis_ctrb_df = subnetwork_ctrb_df[subnetwork_ctrb_df[\"Functional Network\"] == VIS]\n",
    "vis_ctrb_df.rename(columns={\"modCtrb\": \"VIS\"}, inplace=True)\n",
    "vis_ctrb_df.drop(columns=[\"Functional Network\", \"C/T\", \"Age\"], inplace=True)\n",
    "\n",
    "vis_memory_ctrb_df = fpn_ctrb_df.merge(vis_ctrb_df, left_on=['ID', 'Time'], right_on=['ID', 'Time'], suffixes=(False, False))\n",
    "# vis_memory_ctrb_df.tail(5)\n",
    "vis_memory_ctrb_df.head(5)"
   ],
   "metadata": {
    "collapsed": false,
    "pycharm": {
     "name": "#%%\n"
    }
   }
  },
  {
   "cell_type": "markdown",
   "source": [
    "Add Bio sex and education years"
   ],
   "metadata": {
    "collapsed": false
   }
  },
  {
   "cell_type": "code",
   "execution_count": null,
   "outputs": [],
   "source": [
    "gender = []\n",
    "education = []\n",
    "for pid in vis_memory_ctrb_df[\"ID\"]:\n",
    "    gender.append(metadata.loc[pid][\"Gender\"])\n",
    "    education.append(metadata.loc[pid][\"education_yrs\"])\n",
    "\n",
    "vis_memory_ctrb_df[\"EducationYrs\"] = education\n",
    "vis_memory_ctrb_df[\"BioSex\"] = gender"
   ],
   "metadata": {
    "collapsed": false,
    "pycharm": {
     "name": "#%%\n"
    }
   }
  },
  {
   "cell_type": "markdown",
   "source": [
    "Add test score and premorbid IQ"
   ],
   "metadata": {
    "collapsed": false
   }
  },
  {
   "cell_type": "code",
   "execution_count": null,
   "outputs": [],
   "source": [
    "cog_score = []\n",
    "iq_score = []\n",
    "test_name = 'bvmt_delayed_recall'\n",
    "iq_name = 'naart_total'\n",
    "for ri, row in vis_memory_ctrb_df.iterrows():\n",
    "    pid = row['ID']\n",
    "    time = row['Time'].upper()\n",
    "    if time == 'BL':\n",
    "        cog_score.append(bl_score.loc[pid][test_name])\n",
    "        iq_score.append(bl_score.loc[pid][iq_name])\n",
    "    elif time == 'Y1':\n",
    "        cog_score.append(y1_score.loc[pid][test_name])\n",
    "        iq_score.append(y1_score.loc[pid][iq_name])\n",
    "    elif time == 'Y3':\n",
    "        cog_score.append(y3_score.loc[pid][test_name])\n",
    "        iq_score.append(y3_score.loc[pid][iq_name])\n",
    "    elif time == 'Y5':\n",
    "        cog_score.append(y5_score.loc[pid][test_name])\n",
    "        iq_score.append(y5_score.loc[pid][iq_name])\n",
    "\n",
    "vis_memory_ctrb_df['CogScore'] = cog_score\n",
    "vis_memory_ctrb_df['Iq'] = iq_score\n",
    "\n",
    "vis_memory_ctrb_df = vis_memory_ctrb_df.dropna()"
   ],
   "metadata": {
    "collapsed": false,
    "pycharm": {
     "name": "#%%\n"
    }
   }
  },
  {
   "cell_type": "code",
   "execution_count": null,
   "outputs": [],
   "source": [
    "vis_memory_ctrb_df.rename(columns = {\"C/T\": \"Group\"}, inplace=True)\n",
    "vis_memory_ctrb_df.to_csv('../../PREVENT_Study/dump/vis_memory_ctrb.csv')"
   ],
   "metadata": {
    "collapsed": false,
    "pycharm": {
     "name": "#%%\n"
    }
   }
  },
  {
   "cell_type": "markdown",
   "source": [
    "### Verbal memory"
   ],
   "metadata": {
    "collapsed": false
   }
  },
  {
   "cell_type": "code",
   "execution_count": 69,
   "outputs": [
    {
     "name": "stderr",
     "output_type": "stream",
     "text": [
      "/var/folders/4y/c5k89vrd43d510t1vrpm1t180000gn/T/ipykernel_2357/4179163202.py:2: SettingWithCopyWarning: \n",
      "A value is trying to be set on a copy of a slice from a DataFrame\n",
      "\n",
      "See the caveats in the documentation: https://pandas.pydata.org/pandas-docs/stable/user_guide/indexing.html#returning-a-view-versus-a-copy\n",
      "  fpn_ctrb_df.rename(columns={\"modCtrb\": \"FPN\"}, inplace=True)\n",
      "/var/folders/4y/c5k89vrd43d510t1vrpm1t180000gn/T/ipykernel_2357/4179163202.py:3: SettingWithCopyWarning: \n",
      "A value is trying to be set on a copy of a slice from a DataFrame\n",
      "\n",
      "See the caveats in the documentation: https://pandas.pydata.org/pandas-docs/stable/user_guide/indexing.html#returning-a-view-versus-a-copy\n",
      "  fpn_ctrb_df.drop(columns=[\"Functional Network\"], inplace=True)\n",
      "/var/folders/4y/c5k89vrd43d510t1vrpm1t180000gn/T/ipykernel_2357/4179163202.py:6: SettingWithCopyWarning: \n",
      "A value is trying to be set on a copy of a slice from a DataFrame\n",
      "\n",
      "See the caveats in the documentation: https://pandas.pydata.org/pandas-docs/stable/user_guide/indexing.html#returning-a-view-versus-a-copy\n",
      "  aud_ctrb_df.rename(columns={\"modCtrb\": \"AUD\"}, inplace=True)\n",
      "/var/folders/4y/c5k89vrd43d510t1vrpm1t180000gn/T/ipykernel_2357/4179163202.py:7: SettingWithCopyWarning: \n",
      "A value is trying to be set on a copy of a slice from a DataFrame\n",
      "\n",
      "See the caveats in the documentation: https://pandas.pydata.org/pandas-docs/stable/user_guide/indexing.html#returning-a-view-versus-a-copy\n",
      "  aud_ctrb_df.drop(columns=[\"Functional Network\", \"C/T\", \"Age\"], inplace=True)\n"
     ]
    },
    {
     "data": {
      "text/plain": "    ID Time      C/T  Age       FPN       AUD\n0  118   BL  Control   61  0.946620  0.957643\n1  103   BL  Control   44  0.946897  0.925726\n2  088   BL  Control   68  0.959859  0.959506\n3  093   BL  Control   63  0.968023  0.941241\n4  213   BL  Control   60  0.939988  0.920660",
      "text/html": "<div>\n<style scoped>\n    .dataframe tbody tr th:only-of-type {\n        vertical-align: middle;\n    }\n\n    .dataframe tbody tr th {\n        vertical-align: top;\n    }\n\n    .dataframe thead th {\n        text-align: right;\n    }\n</style>\n<table border=\"1\" class=\"dataframe\">\n  <thead>\n    <tr style=\"text-align: right;\">\n      <th></th>\n      <th>ID</th>\n      <th>Time</th>\n      <th>C/T</th>\n      <th>Age</th>\n      <th>FPN</th>\n      <th>AUD</th>\n    </tr>\n  </thead>\n  <tbody>\n    <tr>\n      <th>0</th>\n      <td>118</td>\n      <td>BL</td>\n      <td>Control</td>\n      <td>61</td>\n      <td>0.946620</td>\n      <td>0.957643</td>\n    </tr>\n    <tr>\n      <th>1</th>\n      <td>103</td>\n      <td>BL</td>\n      <td>Control</td>\n      <td>44</td>\n      <td>0.946897</td>\n      <td>0.925726</td>\n    </tr>\n    <tr>\n      <th>2</th>\n      <td>088</td>\n      <td>BL</td>\n      <td>Control</td>\n      <td>68</td>\n      <td>0.959859</td>\n      <td>0.959506</td>\n    </tr>\n    <tr>\n      <th>3</th>\n      <td>093</td>\n      <td>BL</td>\n      <td>Control</td>\n      <td>63</td>\n      <td>0.968023</td>\n      <td>0.941241</td>\n    </tr>\n    <tr>\n      <th>4</th>\n      <td>213</td>\n      <td>BL</td>\n      <td>Control</td>\n      <td>60</td>\n      <td>0.939988</td>\n      <td>0.920660</td>\n    </tr>\n  </tbody>\n</table>\n</div>"
     },
     "execution_count": 69,
     "metadata": {},
     "output_type": "execute_result"
    }
   ],
   "source": [
    "fpn_ctrb_df = subnetwork_ctrb_df[subnetwork_ctrb_df[\"Functional Network\"] == FPN]\n",
    "fpn_ctrb_df.rename(columns={\"modCtrb\": \"FPN\"}, inplace=True)\n",
    "fpn_ctrb_df.drop(columns=[\"Functional Network\"], inplace=True)\n",
    "\n",
    "aud_ctrb_df = subnetwork_ctrb_df[subnetwork_ctrb_df[\"Functional Network\"] == AUD]\n",
    "aud_ctrb_df.rename(columns={\"modCtrb\": \"AUD\"}, inplace=True)\n",
    "aud_ctrb_df.drop(columns=[\"Functional Network\", \"C/T\", \"Age\"], inplace=True)\n",
    "\n",
    "verbal_memory_ctrb_df = fpn_ctrb_df.merge(aud_ctrb_df, left_on=['ID', 'Time'], right_on=['ID', 'Time'], suffixes=\n",
    "(False, False))\n",
    "# vis_memory_ctrb_df.tail(5)\n",
    "verbal_memory_ctrb_df.head(5)"
   ],
   "metadata": {
    "collapsed": false,
    "pycharm": {
     "name": "#%%\n"
    }
   }
  },
  {
   "cell_type": "markdown",
   "source": [
    "Add Bio sex and education years"
   ],
   "metadata": {
    "collapsed": false,
    "pycharm": {
     "name": "#%% md\n"
    }
   }
  },
  {
   "cell_type": "code",
   "execution_count": 70,
   "outputs": [],
   "source": [
    "gender = []\n",
    "education = []\n",
    "for pid in verbal_memory_ctrb_df[\"ID\"]:\n",
    "    gender.append(metadata.loc[pid][\"Gender\"])\n",
    "    education.append(metadata.loc[pid][\"education_yrs\"])\n",
    "\n",
    "verbal_memory_ctrb_df[\"EducationYrs\"] = education\n",
    "verbal_memory_ctrb_df[\"BioSex\"] = gender"
   ],
   "metadata": {
    "collapsed": false,
    "pycharm": {
     "name": "#%%\n"
    }
   }
  },
  {
   "cell_type": "markdown",
   "source": [
    "Add test score and premorbid IQ"
   ],
   "metadata": {
    "collapsed": false,
    "pycharm": {
     "name": "#%% md\n"
    }
   }
  },
  {
   "cell_type": "code",
   "execution_count": 71,
   "outputs": [],
   "source": [
    "cog_score = []\n",
    "iq_score = []\n",
    "test_name = 'ravlt_list_a_delay_recall'\n",
    "iq_name = 'naart_total'\n",
    "for ri, row in verbal_memory_ctrb_df.iterrows():\n",
    "    pid = row['ID']\n",
    "    time = row['Time'].upper()\n",
    "    if time == 'BL':\n",
    "        cog_score.append(bl_score.loc[pid][test_name])\n",
    "        iq_score.append(bl_score.loc[pid][iq_name])\n",
    "    elif time == 'Y1':\n",
    "        cog_score.append(y1_score.loc[pid][test_name])\n",
    "        iq_score.append(y1_score.loc[pid][iq_name])\n",
    "    elif time == 'Y3':\n",
    "        cog_score.append(y3_score.loc[pid][test_name])\n",
    "        iq_score.append(y3_score.loc[pid][iq_name])\n",
    "    elif time == 'Y5':\n",
    "        cog_score.append(y5_score.loc[pid][test_name])\n",
    "        iq_score.append(y5_score.loc[pid][iq_name])\n",
    "\n",
    "verbal_memory_ctrb_df['CogScore'] = cog_score\n",
    "verbal_memory_ctrb_df['Iq'] = iq_score\n",
    "\n",
    "verbal_memory_ctrb_df = verbal_memory_ctrb_df.dropna()"
   ],
   "metadata": {
    "collapsed": false,
    "pycharm": {
     "name": "#%%\n"
    }
   }
  },
  {
   "cell_type": "code",
   "execution_count": 72,
   "outputs": [],
   "source": [
    "verbal_memory_ctrb_df.rename(columns = {\"C/T\": \"Group\"}, inplace=True)\n",
    "verbal_memory_ctrb_df.to_csv('../../PREVENT_Study/dump/verbal_memory_ctrb.csv')\n"
   ],
   "metadata": {
    "collapsed": false,
    "pycharm": {
     "name": "#%%\n"
    }
   }
  },
  {
   "cell_type": "markdown",
   "source": [
    "### Processing speed"
   ],
   "metadata": {
    "collapsed": false
   }
  },
  {
   "cell_type": "code",
   "execution_count": 11,
   "outputs": [
    {
     "name": "stderr",
     "output_type": "stream",
     "text": [
      "/var/folders/4y/c5k89vrd43d510t1vrpm1t180000gn/T/ipykernel_37104/4225303431.py:2: SettingWithCopyWarning: \n",
      "A value is trying to be set on a copy of a slice from a DataFrame\n",
      "\n",
      "See the caveats in the documentation: https://pandas.pydata.org/pandas-docs/stable/user_guide/indexing.html#returning-a-view-versus-a-copy\n",
      "  fpn_ctrb_df.rename(columns={\"avgCtrb\": \"FPN\"}, inplace=True)\n",
      "/var/folders/4y/c5k89vrd43d510t1vrpm1t180000gn/T/ipykernel_37104/4225303431.py:3: SettingWithCopyWarning: \n",
      "A value is trying to be set on a copy of a slice from a DataFrame\n",
      "\n",
      "See the caveats in the documentation: https://pandas.pydata.org/pandas-docs/stable/user_guide/indexing.html#returning-a-view-versus-a-copy\n",
      "  fpn_ctrb_df.drop(columns=[\"Functional Network\", \"modCtrb\"], inplace=True)\n",
      "/var/folders/4y/c5k89vrd43d510t1vrpm1t180000gn/T/ipykernel_37104/4225303431.py:6: SettingWithCopyWarning: \n",
      "A value is trying to be set on a copy of a slice from a DataFrame\n",
      "\n",
      "See the caveats in the documentation: https://pandas.pydata.org/pandas-docs/stable/user_guide/indexing.html#returning-a-view-versus-a-copy\n",
      "  con_ctrb_df.rename(columns={\"avgCtrb\": \"CON\"}, inplace=True)\n",
      "/var/folders/4y/c5k89vrd43d510t1vrpm1t180000gn/T/ipykernel_37104/4225303431.py:7: SettingWithCopyWarning: \n",
      "A value is trying to be set on a copy of a slice from a DataFrame\n",
      "\n",
      "See the caveats in the documentation: https://pandas.pydata.org/pandas-docs/stable/user_guide/indexing.html#returning-a-view-versus-a-copy\n",
      "  con_ctrb_df.drop(columns=[\"Functional Network\", \"C/T\", \"Age\", \"modCtrb\"], inplace=True)\n"
     ]
    },
    {
     "data": {
      "text/plain": "    ID Time      C/T  Age       FPN       CON\n0  118   BL  Control   61  1.080044  1.138688\n1  103   BL  Control   44  1.079218  1.074024\n2  088   BL  Control   68  1.065987  1.118059\n3  093   BL  Control   63  1.046847  1.165150\n4  213   BL  Control   60  1.120673  1.103744",
      "text/html": "<div>\n<style scoped>\n    .dataframe tbody tr th:only-of-type {\n        vertical-align: middle;\n    }\n\n    .dataframe tbody tr th {\n        vertical-align: top;\n    }\n\n    .dataframe thead th {\n        text-align: right;\n    }\n</style>\n<table border=\"1\" class=\"dataframe\">\n  <thead>\n    <tr style=\"text-align: right;\">\n      <th></th>\n      <th>ID</th>\n      <th>Time</th>\n      <th>C/T</th>\n      <th>Age</th>\n      <th>FPN</th>\n      <th>CON</th>\n    </tr>\n  </thead>\n  <tbody>\n    <tr>\n      <th>0</th>\n      <td>118</td>\n      <td>BL</td>\n      <td>Control</td>\n      <td>61</td>\n      <td>1.080044</td>\n      <td>1.138688</td>\n    </tr>\n    <tr>\n      <th>1</th>\n      <td>103</td>\n      <td>BL</td>\n      <td>Control</td>\n      <td>44</td>\n      <td>1.079218</td>\n      <td>1.074024</td>\n    </tr>\n    <tr>\n      <th>2</th>\n      <td>088</td>\n      <td>BL</td>\n      <td>Control</td>\n      <td>68</td>\n      <td>1.065987</td>\n      <td>1.118059</td>\n    </tr>\n    <tr>\n      <th>3</th>\n      <td>093</td>\n      <td>BL</td>\n      <td>Control</td>\n      <td>63</td>\n      <td>1.046847</td>\n      <td>1.165150</td>\n    </tr>\n    <tr>\n      <th>4</th>\n      <td>213</td>\n      <td>BL</td>\n      <td>Control</td>\n      <td>60</td>\n      <td>1.120673</td>\n      <td>1.103744</td>\n    </tr>\n  </tbody>\n</table>\n</div>"
     },
     "execution_count": 11,
     "metadata": {},
     "output_type": "execute_result"
    }
   ],
   "source": [
    "fpn_ctrb_df = subnetwork_ctrb_df[subnetwork_ctrb_df[\"Functional Network\"] == FPN]\n",
    "fpn_ctrb_df.rename(columns={\"avgCtrb\": \"FPN\"}, inplace=True)\n",
    "fpn_ctrb_df.drop(columns=[\"Functional Network\", \"modCtrb\"], inplace=True)\n",
    "\n",
    "con_ctrb_df = subnetwork_ctrb_df[subnetwork_ctrb_df[\"Functional Network\"] == CON]\n",
    "con_ctrb_df.rename(columns={\"avgCtrb\": \"CON\"}, inplace=True)\n",
    "con_ctrb_df.drop(columns=[\"Functional Network\", \"C/T\", \"Age\", \"modCtrb\"], inplace=True)\n",
    "\n",
    "ps_ctrb_df = fpn_ctrb_df.merge(con_ctrb_df, left_on=['ID', 'Time'], right_on=['ID', 'Time'], suffixes=\n",
    "(False, False))\n",
    "ps_ctrb_df.head(5)"
   ],
   "metadata": {
    "collapsed": false,
    "pycharm": {
     "name": "#%%\n"
    }
   }
  },
  {
   "cell_type": "markdown",
   "source": [
    "Add Bio sex and education years"
   ],
   "metadata": {
    "collapsed": false
   }
  },
  {
   "cell_type": "code",
   "execution_count": 12,
   "outputs": [],
   "source": [
    "gender = []\n",
    "education = []\n",
    "for pid in ps_ctrb_df[\"ID\"]:\n",
    "    gender.append(metadata.loc[pid][\"Gender\"])\n",
    "    education.append(metadata.loc[pid][\"education_yrs\"])\n",
    "\n",
    "ps_ctrb_df[\"EducationYrs\"] = education\n",
    "ps_ctrb_df[\"BioSex\"] = gender"
   ],
   "metadata": {
    "collapsed": false,
    "pycharm": {
     "name": "#%%\n"
    }
   }
  },
  {
   "cell_type": "markdown",
   "source": [
    "Add test score and premorbid IQ"
   ],
   "metadata": {
    "collapsed": false
   }
  },
  {
   "cell_type": "code",
   "execution_count": 13,
   "outputs": [],
   "source": [
    "cog_score = []\n",
    "iq_score = []\n",
    "test_name = 'tmt_trail_a_time'\n",
    "iq_name = 'naart_total'\n",
    "for ri, row in ps_ctrb_df.iterrows():\n",
    "    pid = row['ID']\n",
    "    time = row['Time'].upper()\n",
    "    if time == 'BL':\n",
    "        cog_score.append(bl_score.loc[pid][test_name])\n",
    "        iq_score.append(bl_score.loc[pid][iq_name])\n",
    "    elif time == 'Y1':\n",
    "        cog_score.append(y1_score.loc[pid][test_name])\n",
    "        iq_score.append(y1_score.loc[pid][iq_name])\n",
    "    elif time == 'Y3':\n",
    "        cog_score.append(y3_score.loc[pid][test_name])\n",
    "        iq_score.append(y3_score.loc[pid][iq_name])\n",
    "    elif time == 'Y5':\n",
    "        cog_score.append(y5_score.loc[pid][test_name])\n",
    "        iq_score.append(y5_score.loc[pid][iq_name])\n",
    "\n",
    "ps_ctrb_df['CogScore'] = cog_score\n",
    "ps_ctrb_df['Iq'] = iq_score\n",
    "\n",
    "ps_ctrb_df = ps_ctrb_df.dropna()"
   ],
   "metadata": {
    "collapsed": false,
    "pycharm": {
     "name": "#%%\n"
    }
   }
  },
  {
   "cell_type": "code",
   "execution_count": 14,
   "outputs": [],
   "source": [
    "ps_ctrb_df.rename(columns = {\"C/T\": \"Group\"}, inplace=True)\n",
    "ps_ctrb_df.to_csv('../../PREVENT_Study/dump/processing_speed_avg_ctrb.csv')"
   ],
   "metadata": {
    "collapsed": false,
    "pycharm": {
     "name": "#%%\n"
    }
   }
  },
  {
   "cell_type": "markdown",
   "source": [
    "### Executive Function"
   ],
   "metadata": {
    "collapsed": false
   }
  },
  {
   "cell_type": "code",
   "execution_count": 91,
   "outputs": [
    {
     "name": "stderr",
     "output_type": "stream",
     "text": [
      "/var/folders/4y/c5k89vrd43d510t1vrpm1t180000gn/T/ipykernel_2357/3989303724.py:2: SettingWithCopyWarning: \n",
      "A value is trying to be set on a copy of a slice from a DataFrame\n",
      "\n",
      "See the caveats in the documentation: https://pandas.pydata.org/pandas-docs/stable/user_guide/indexing.html#returning-a-view-versus-a-copy\n",
      "  fpn_ctrb_df.rename(columns={\"modCtrb\": \"FPN\"}, inplace=True)\n",
      "/var/folders/4y/c5k89vrd43d510t1vrpm1t180000gn/T/ipykernel_2357/3989303724.py:3: SettingWithCopyWarning: \n",
      "A value is trying to be set on a copy of a slice from a DataFrame\n",
      "\n",
      "See the caveats in the documentation: https://pandas.pydata.org/pandas-docs/stable/user_guide/indexing.html#returning-a-view-versus-a-copy\n",
      "  fpn_ctrb_df.drop(columns=[\"Functional Network\"], inplace=True)\n",
      "/var/folders/4y/c5k89vrd43d510t1vrpm1t180000gn/T/ipykernel_2357/3989303724.py:6: SettingWithCopyWarning: \n",
      "A value is trying to be set on a copy of a slice from a DataFrame\n",
      "\n",
      "See the caveats in the documentation: https://pandas.pydata.org/pandas-docs/stable/user_guide/indexing.html#returning-a-view-versus-a-copy\n",
      "  con_ctrb_df.rename(columns={\"modCtrb\": \"CON\"}, inplace=True)\n",
      "/var/folders/4y/c5k89vrd43d510t1vrpm1t180000gn/T/ipykernel_2357/3989303724.py:7: SettingWithCopyWarning: \n",
      "A value is trying to be set on a copy of a slice from a DataFrame\n",
      "\n",
      "See the caveats in the documentation: https://pandas.pydata.org/pandas-docs/stable/user_guide/indexing.html#returning-a-view-versus-a-copy\n",
      "  con_ctrb_df.drop(columns=[\"Functional Network\", \"C/T\", \"Age\"], inplace=True)\n"
     ]
    },
    {
     "data": {
      "text/plain": "    ID Time      C/T  Age       FPN       CON\n0  118   BL  Control   61  0.946620  0.965939\n1  103   BL  Control   44  0.946897  0.966011\n2  088   BL  Control   68  0.959859  0.958991\n3  093   BL  Control   63  0.968023  0.963348\n4  213   BL  Control   60  0.939988  0.964120",
      "text/html": "<div>\n<style scoped>\n    .dataframe tbody tr th:only-of-type {\n        vertical-align: middle;\n    }\n\n    .dataframe tbody tr th {\n        vertical-align: top;\n    }\n\n    .dataframe thead th {\n        text-align: right;\n    }\n</style>\n<table border=\"1\" class=\"dataframe\">\n  <thead>\n    <tr style=\"text-align: right;\">\n      <th></th>\n      <th>ID</th>\n      <th>Time</th>\n      <th>C/T</th>\n      <th>Age</th>\n      <th>FPN</th>\n      <th>CON</th>\n    </tr>\n  </thead>\n  <tbody>\n    <tr>\n      <th>0</th>\n      <td>118</td>\n      <td>BL</td>\n      <td>Control</td>\n      <td>61</td>\n      <td>0.946620</td>\n      <td>0.965939</td>\n    </tr>\n    <tr>\n      <th>1</th>\n      <td>103</td>\n      <td>BL</td>\n      <td>Control</td>\n      <td>44</td>\n      <td>0.946897</td>\n      <td>0.966011</td>\n    </tr>\n    <tr>\n      <th>2</th>\n      <td>088</td>\n      <td>BL</td>\n      <td>Control</td>\n      <td>68</td>\n      <td>0.959859</td>\n      <td>0.958991</td>\n    </tr>\n    <tr>\n      <th>3</th>\n      <td>093</td>\n      <td>BL</td>\n      <td>Control</td>\n      <td>63</td>\n      <td>0.968023</td>\n      <td>0.963348</td>\n    </tr>\n    <tr>\n      <th>4</th>\n      <td>213</td>\n      <td>BL</td>\n      <td>Control</td>\n      <td>60</td>\n      <td>0.939988</td>\n      <td>0.964120</td>\n    </tr>\n  </tbody>\n</table>\n</div>"
     },
     "execution_count": 91,
     "metadata": {},
     "output_type": "execute_result"
    }
   ],
   "source": [
    "fpn_ctrb_df = subnetwork_ctrb_df[subnetwork_ctrb_df[\"Functional Network\"] == FPN]\n",
    "fpn_ctrb_df.rename(columns={\"modCtrb\": \"FPN\"}, inplace=True)\n",
    "fpn_ctrb_df.drop(columns=[\"Functional Network\"], inplace=True)\n",
    "\n",
    "con_ctrb_df = subnetwork_ctrb_df[subnetwork_ctrb_df[\"Functional Network\"] == CON]\n",
    "con_ctrb_df.rename(columns={\"modCtrb\": \"CON\"}, inplace=True)\n",
    "con_ctrb_df.drop(columns=[\"Functional Network\", \"C/T\", \"Age\"], inplace=True)\n",
    "\n",
    "exe_ctrb_df = fpn_ctrb_df.merge(con_ctrb_df, left_on=['ID', 'Time'], right_on=['ID', 'Time'], suffixes=\n",
    "(False, False))\n",
    "exe_ctrb_df.head(5)"
   ],
   "metadata": {
    "collapsed": false,
    "pycharm": {
     "name": "#%%\n"
    }
   }
  },
  {
   "cell_type": "markdown",
   "source": [
    "Add Bio sex and education years"
   ],
   "metadata": {
    "collapsed": false
   }
  },
  {
   "cell_type": "code",
   "execution_count": 92,
   "outputs": [],
   "source": [
    "gender = []\n",
    "education = []\n",
    "for pid in exe_ctrb_df[\"ID\"]:\n",
    "    gender.append(metadata.loc[pid][\"Gender\"])\n",
    "    education.append(metadata.loc[pid][\"education_yrs\"])\n",
    "\n",
    "exe_ctrb_df[\"EducationYrs\"] = education\n",
    "exe_ctrb_df[\"BioSex\"] = gender"
   ],
   "metadata": {
    "collapsed": false,
    "pycharm": {
     "name": "#%%\n"
    }
   }
  },
  {
   "cell_type": "markdown",
   "source": [
    "Add test score and premorbid IQ"
   ],
   "metadata": {
    "collapsed": false
   }
  },
  {
   "cell_type": "code",
   "execution_count": 93,
   "outputs": [],
   "source": [
    "cog_score = []\n",
    "iq_score = []\n",
    "# 'executive function': ['tmt_trail_b_time', 'wais_r_total'],\n",
    "test_name = 'wais_r_total'\n",
    "iq_name = 'naart_total'\n",
    "for ri, row in exe_ctrb_df.iterrows():\n",
    "    pid = row['ID']\n",
    "    time = row['Time'].upper()\n",
    "    if time == 'BL':\n",
    "        cog_score.append(bl_score.loc[pid][test_name])\n",
    "        iq_score.append(bl_score.loc[pid][iq_name])\n",
    "    elif time == 'Y1':\n",
    "        cog_score.append(y1_score.loc[pid][test_name])\n",
    "        iq_score.append(y1_score.loc[pid][iq_name])\n",
    "    elif time == 'Y3':\n",
    "        cog_score.append(y3_score.loc[pid][test_name])\n",
    "        iq_score.append(y3_score.loc[pid][iq_name])\n",
    "    elif time == 'Y5':\n",
    "        cog_score.append(y5_score.loc[pid][test_name])\n",
    "        iq_score.append(y5_score.loc[pid][iq_name])\n",
    "\n",
    "exe_ctrb_df['CogScore'] = cog_score\n",
    "exe_ctrb_df['Iq'] = iq_score\n",
    "\n",
    "exe_ctrb_df = exe_ctrb_df.dropna()"
   ],
   "metadata": {
    "collapsed": false,
    "pycharm": {
     "name": "#%%\n"
    }
   }
  },
  {
   "cell_type": "code",
   "execution_count": 94,
   "outputs": [],
   "source": [
    "exe_ctrb_df.rename(columns = {\"C/T\": \"Group\"}, inplace=True)\n",
    "exe_ctrb_df.to_csv('../../PREVENT_Study/dump/executive_function_wais_ctrb.csv')"
   ],
   "metadata": {
    "collapsed": false,
    "pycharm": {
     "name": "#%%\n"
    }
   }
  },
  {
   "cell_type": "markdown",
   "source": [
    "Plot of all 5 cognitive scores\n",
    "- Need to add Timepoint and C/T column.\n",
    "- For each timepoint, select the score and plot"
   ],
   "metadata": {
    "collapsed": false,
    "pycharm": {
     "name": "#%% md\n"
    }
   }
  },
  {
   "cell_type": "code",
   "execution_count": 181,
   "outputs": [],
   "source": [
    "pType_convert = {\"HC\": \"Control\", \"P\": \"TIA\"}\n",
    "# ['bvmt_total_recall', 'bvmt_delayed_recall', 'ravlt_list_a_delay_recall', 'tmt_trail_a_time', 'tmt_trail_b_time']\n",
    "COG_SCORE_TEST = 'ravlt_list_a_delay_recall'"
   ],
   "metadata": {
    "collapsed": false,
    "pycharm": {
     "name": "#%%\n"
    }
   }
  },
  {
   "cell_type": "code",
   "execution_count": 156,
   "outputs": [
    {
     "data": {
      "text/plain": "403"
     },
     "execution_count": 156,
     "metadata": {},
     "output_type": "execute_result"
    }
   ],
   "source": [
    "group_col = []\n",
    "for row in bl_score.iterrows():\n",
    "    pid = row[0]\n",
    "    group_col.append(pType_convert[metadata.loc[pid]['C/T']])\n",
    "len(group_col)"
   ],
   "metadata": {
    "collapsed": false,
    "pycharm": {
     "name": "#%%\n"
    }
   }
  },
  {
   "cell_type": "code",
   "execution_count": 182,
   "outputs": [
    {
     "name": "stderr",
     "output_type": "stream",
     "text": [
      "/var/folders/4y/c5k89vrd43d510t1vrpm1t180000gn/T/ipykernel_2357/2358940652.py:2: SettingWithCopyWarning: \n",
      "A value is trying to be set on a copy of a slice from a DataFrame.\n",
      "Try using .loc[row_indexer,col_indexer] = value instead\n",
      "\n",
      "See the caveats in the documentation: https://pandas.pydata.org/pandas-docs/stable/user_guide/indexing.html#returning-a-view-versus-a-copy\n",
      "  score_df['C/T'] = group_col\n",
      "/var/folders/4y/c5k89vrd43d510t1vrpm1t180000gn/T/ipykernel_2357/2358940652.py:3: SettingWithCopyWarning: \n",
      "A value is trying to be set on a copy of a slice from a DataFrame.\n",
      "Try using .loc[row_indexer,col_indexer] = value instead\n",
      "\n",
      "See the caveats in the documentation: https://pandas.pydata.org/pandas-docs/stable/user_guide/indexing.html#returning-a-view-versus-a-copy\n",
      "  score_df['Time'] = ['BL']*len(group_col)\n",
      "/var/folders/4y/c5k89vrd43d510t1vrpm1t180000gn/T/ipykernel_2357/2358940652.py:6: SettingWithCopyWarning: \n",
      "A value is trying to be set on a copy of a slice from a DataFrame.\n",
      "Try using .loc[row_indexer,col_indexer] = value instead\n",
      "\n",
      "See the caveats in the documentation: https://pandas.pydata.org/pandas-docs/stable/user_guide/indexing.html#returning-a-view-versus-a-copy\n",
      "  temp_df['C/T'] = group_col\n",
      "/var/folders/4y/c5k89vrd43d510t1vrpm1t180000gn/T/ipykernel_2357/2358940652.py:7: SettingWithCopyWarning: \n",
      "A value is trying to be set on a copy of a slice from a DataFrame.\n",
      "Try using .loc[row_indexer,col_indexer] = value instead\n",
      "\n",
      "See the caveats in the documentation: https://pandas.pydata.org/pandas-docs/stable/user_guide/indexing.html#returning-a-view-versus-a-copy\n",
      "  temp_df['Time'] = ['Y1']*len(group_col)\n",
      "/var/folders/4y/c5k89vrd43d510t1vrpm1t180000gn/T/ipykernel_2357/2358940652.py:11: SettingWithCopyWarning: \n",
      "A value is trying to be set on a copy of a slice from a DataFrame.\n",
      "Try using .loc[row_indexer,col_indexer] = value instead\n",
      "\n",
      "See the caveats in the documentation: https://pandas.pydata.org/pandas-docs/stable/user_guide/indexing.html#returning-a-view-versus-a-copy\n",
      "  temp_df['C/T'] = group_col\n",
      "/var/folders/4y/c5k89vrd43d510t1vrpm1t180000gn/T/ipykernel_2357/2358940652.py:12: SettingWithCopyWarning: \n",
      "A value is trying to be set on a copy of a slice from a DataFrame.\n",
      "Try using .loc[row_indexer,col_indexer] = value instead\n",
      "\n",
      "See the caveats in the documentation: https://pandas.pydata.org/pandas-docs/stable/user_guide/indexing.html#returning-a-view-versus-a-copy\n",
      "  temp_df['Time'] = ['Y3']*len(group_col)\n",
      "/var/folders/4y/c5k89vrd43d510t1vrpm1t180000gn/T/ipykernel_2357/2358940652.py:16: SettingWithCopyWarning: \n",
      "A value is trying to be set on a copy of a slice from a DataFrame.\n",
      "Try using .loc[row_indexer,col_indexer] = value instead\n",
      "\n",
      "See the caveats in the documentation: https://pandas.pydata.org/pandas-docs/stable/user_guide/indexing.html#returning-a-view-versus-a-copy\n",
      "  temp_df['C/T'] = group_col\n",
      "/var/folders/4y/c5k89vrd43d510t1vrpm1t180000gn/T/ipykernel_2357/2358940652.py:17: SettingWithCopyWarning: \n",
      "A value is trying to be set on a copy of a slice from a DataFrame.\n",
      "Try using .loc[row_indexer,col_indexer] = value instead\n",
      "\n",
      "See the caveats in the documentation: https://pandas.pydata.org/pandas-docs/stable/user_guide/indexing.html#returning-a-view-versus-a-copy\n",
      "  temp_df['Time'] = ['Y5']*len(group_col)\n"
     ]
    },
    {
     "data": {
      "text/plain": "704"
     },
     "execution_count": 182,
     "metadata": {},
     "output_type": "execute_result"
    }
   ],
   "source": [
    "score_df = bl_score[[COG_SCORE_TEST]]\n",
    "score_df['C/T'] = group_col\n",
    "score_df['Time'] = ['BL']*len(group_col)\n",
    "\n",
    "temp_df = y1_score[[COG_SCORE_TEST]]\n",
    "temp_df['C/T'] = group_col\n",
    "temp_df['Time'] = ['Y1']*len(group_col)\n",
    "score_df = pd.concat([score_df, temp_df], ignore_index=True)\n",
    "\n",
    "temp_df = y3_score[[COG_SCORE_TEST]]\n",
    "temp_df['C/T'] = group_col\n",
    "temp_df['Time'] = ['Y3']*len(group_col)\n",
    "score_df = pd.concat([score_df, temp_df], ignore_index=True)\n",
    "\n",
    "temp_df = y5_score[[COG_SCORE_TEST]]\n",
    "temp_df['C/T'] = group_col\n",
    "temp_df['Time'] = ['Y5']*len(group_col)\n",
    "score_df = pd.concat([score_df, temp_df], ignore_index=True)\n",
    "\n",
    "score_df = score_df.dropna()\n",
    "len(score_df)"
   ],
   "metadata": {
    "collapsed": false,
    "pycharm": {
     "name": "#%%\n"
    }
   }
  },
  {
   "cell_type": "code",
   "execution_count": 183,
   "outputs": [
    {
     "data": {
      "text/plain": "<Figure size 432x288 with 1 Axes>",
      "image/png": "[encoded data removed]"
     },
     "metadata": {
      "needs_background": "light"
     },
     "output_type": "display_data"
    }
   ],
   "source": [
    "plot = sns.boxplot(data=score_df, x=\"Time\", y=COG_SCORE_TEST, hue=\"C/T\", hue_order = [\"Control\", \"TIA\"], showfliers=False)\n",
    "sns.move_legend(plot, \"upper left\", bbox_to_anchor=(1, 1))\n",
    "plt.savefig(FIGURE_PATH+f\"/new analysis/{COG_SCORE_TEST}.png\", dpi=250, bbox_inches='tight')"
   ],
   "metadata": {
    "collapsed": false,
    "pycharm": {
     "name": "#%%\n"
    }
   }
  }
 ],
 "metadata": {
  "kernelspec": {
   "display_name": "Python 3",
   "language": "python",
   "name": "python3"
  },
  "language_info": {
   "codemirror_mode": {
    "name": "ipython",
    "version": 2
   },
   "file_extension": ".py",
   "mimetype": "text/x-python",
   "name": "python",
   "nbconvert_exporter": "python",
   "pygments_lexer": "ipython2",
   "version": "2.7.6"
  }
 },
 "nbformat": 4,
 "nbformat_minor": 0
}