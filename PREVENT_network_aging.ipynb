{
 "cells": [
  {
   "cell_type": "markdown",
   "metadata": {
    "collapsed": true,
    "pycharm": {
     "name": "#%% md\n"
    }
   },
   "source": [
    "# How Network Changes with Age\n",
    "- We expect volume atrophy with normal aging and faster volume atrophy with those that experienced a TIA/minor stroke. [Paper](https://www.sciencedirect.com/science/article/pii/S2666245021000167)\n",
    "- The question is how do edge weights in the network change with aging?\n",
    "    - Since volume is decreasing, the number of fibre counts should decrease normally.\n",
    "    - For those who experienced a TIA/minor stroke, does this specifically target/affect fibre count? Or is it primarily impacting nodal volume rather than edge weights."
   ]
  },
  {
   "cell_type": "code",
   "execution_count": 2,
   "outputs": [
    {
     "name": "stdout",
     "output_type": "stream",
     "text": [
      "3.8.12 (default, Mar  2 2022, 12:59:08) \n",
      "[Clang 13.0.0 (clang-1300.0.27.3)]\n"
     ]
    }
   ],
   "source": [
    "import networkx as nx\n",
    "import pandas as pd\n",
    "import numpy as np\n",
    "import importlib\n",
    "import sys\n",
    "import os\n",
    "import scipy.stats\n",
    "import pickle as pkl\n",
    "print(sys.version)\n",
    "\n",
    "import Towlson_group_code.data_io as myFunc\n",
    "importlib.reload(myFunc)\n",
    "\n",
    "import PREVENT_functions as prev_fct\n",
    "importlib.reload(prev_fct)\n",
    "\n",
    "PICKLE_PATH = '../../PREVENT_Study/pickles/'\n",
    "FIGURE_PATH = '../../PREVENT_Study/figures/'\n",
    "DUMP_PATH = '../../PREVENT_Study/dump/'\n",
    "TIMES = ['bl', 'y1', 'y3', 'y5']\n",
    "metadata, node_list = prev_fct.load_meta_data()"
   ],
   "metadata": {
    "collapsed": false,
    "pycharm": {
     "name": "#%%\n"
    }
   }
  },
  {
   "cell_type": "markdown",
   "source": [
    "# Volume Atrophy\n",
    "- Compare volume atrophy rates of Controls vs TIAs. Confirm findings in [Paper](https://www.sciencedirect.com/science/article/pii/S2666245021000167).\n"
   ],
   "metadata": {
    "collapsed": false,
    "pycharm": {
     "name": "#%% md\n"
    }
   }
  }
 ],
 "metadata": {
  "kernelspec": {
   "display_name": "Python 3",
   "language": "python",
   "name": "python3"
  },
  "language_info": {
   "codemirror_mode": {
    "name": "ipython",
    "version": 2
   },
   "file_extension": ".py",
   "mimetype": "text/x-python",
   "name": "python",
   "nbconvert_exporter": "python",
   "pygments_lexer": "ipython2",
   "version": "2.7.6"
  }
 },
 "nbformat": 4,
 "nbformat_minor": 0
}